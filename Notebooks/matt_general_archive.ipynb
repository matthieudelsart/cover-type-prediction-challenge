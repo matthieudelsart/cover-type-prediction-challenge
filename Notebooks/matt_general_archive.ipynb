{
 "cells": [
  {
   "cell_type": "code",
   "execution_count": 1,
   "metadata": {},
   "outputs": [],
   "source": [
    "import numpy as np\n",
    "import pandas as pd\n",
    "import matplotlib.pyplot as plt\n",
    "import seaborn as sns\n",
    "%matplotlib inline"
   ]
  },
  {
   "cell_type": "code",
   "execution_count": 2,
   "metadata": {},
   "outputs": [],
   "source": [
    "df_test = pd.read_csv(\"test-full.csv\")\n",
    "df_train = pd.read_csv(\"train.csv\")\n",
    "# pour avoir cover type au début\n",
    "df_train = df_train[[df_train.columns[-1]] + list(df_train.columns[0:-1])]"
   ]
  },
  {
   "cell_type": "code",
   "execution_count": 3,
   "metadata": {},
   "outputs": [
    {
     "data": {
      "text/plain": [
       "((15120, 56), (581012, 55))"
      ]
     },
     "execution_count": 3,
     "metadata": {},
     "output_type": "execute_result"
    }
   ],
   "source": [
    "df_train.shape, df_test.shape"
   ]
  },
  {
   "cell_type": "code",
   "execution_count": 4,
   "metadata": {},
   "outputs": [
    {
     "data": {
      "text/html": [
       "<div>\n",
       "<style scoped>\n",
       "    .dataframe tbody tr th:only-of-type {\n",
       "        vertical-align: middle;\n",
       "    }\n",
       "\n",
       "    .dataframe tbody tr th {\n",
       "        vertical-align: top;\n",
       "    }\n",
       "\n",
       "    .dataframe thead th {\n",
       "        text-align: right;\n",
       "    }\n",
       "</style>\n",
       "<table border=\"1\" class=\"dataframe\">\n",
       "  <thead>\n",
       "    <tr style=\"text-align: right;\">\n",
       "      <th></th>\n",
       "      <th>Id</th>\n",
       "      <th>Elevation</th>\n",
       "      <th>Aspect</th>\n",
       "      <th>Slope</th>\n",
       "      <th>Horizontal_Distance_To_Hydrology</th>\n",
       "      <th>Vertical_Distance_To_Hydrology</th>\n",
       "      <th>Horizontal_Distance_To_Roadways</th>\n",
       "      <th>Hillshade_9am</th>\n",
       "      <th>Hillshade_Noon</th>\n",
       "      <th>Hillshade_3pm</th>\n",
       "      <th>...</th>\n",
       "      <th>Soil_Type31</th>\n",
       "      <th>Soil_Type32</th>\n",
       "      <th>Soil_Type33</th>\n",
       "      <th>Soil_Type34</th>\n",
       "      <th>Soil_Type35</th>\n",
       "      <th>Soil_Type36</th>\n",
       "      <th>Soil_Type37</th>\n",
       "      <th>Soil_Type38</th>\n",
       "      <th>Soil_Type39</th>\n",
       "      <th>Soil_Type40</th>\n",
       "    </tr>\n",
       "  </thead>\n",
       "  <tbody>\n",
       "    <tr>\n",
       "      <th>0</th>\n",
       "      <td>1</td>\n",
       "      <td>2596</td>\n",
       "      <td>51</td>\n",
       "      <td>3</td>\n",
       "      <td>258</td>\n",
       "      <td>0</td>\n",
       "      <td>510</td>\n",
       "      <td>221</td>\n",
       "      <td>232</td>\n",
       "      <td>148</td>\n",
       "      <td>...</td>\n",
       "      <td>0</td>\n",
       "      <td>0</td>\n",
       "      <td>0</td>\n",
       "      <td>0</td>\n",
       "      <td>0</td>\n",
       "      <td>0</td>\n",
       "      <td>0</td>\n",
       "      <td>0</td>\n",
       "      <td>0</td>\n",
       "      <td>0</td>\n",
       "    </tr>\n",
       "    <tr>\n",
       "      <th>1</th>\n",
       "      <td>2</td>\n",
       "      <td>2590</td>\n",
       "      <td>56</td>\n",
       "      <td>2</td>\n",
       "      <td>212</td>\n",
       "      <td>-6</td>\n",
       "      <td>390</td>\n",
       "      <td>220</td>\n",
       "      <td>235</td>\n",
       "      <td>151</td>\n",
       "      <td>...</td>\n",
       "      <td>0</td>\n",
       "      <td>0</td>\n",
       "      <td>0</td>\n",
       "      <td>0</td>\n",
       "      <td>0</td>\n",
       "      <td>0</td>\n",
       "      <td>0</td>\n",
       "      <td>0</td>\n",
       "      <td>0</td>\n",
       "      <td>0</td>\n",
       "    </tr>\n",
       "    <tr>\n",
       "      <th>2</th>\n",
       "      <td>3</td>\n",
       "      <td>2804</td>\n",
       "      <td>139</td>\n",
       "      <td>9</td>\n",
       "      <td>268</td>\n",
       "      <td>65</td>\n",
       "      <td>3180</td>\n",
       "      <td>234</td>\n",
       "      <td>238</td>\n",
       "      <td>135</td>\n",
       "      <td>...</td>\n",
       "      <td>0</td>\n",
       "      <td>0</td>\n",
       "      <td>0</td>\n",
       "      <td>0</td>\n",
       "      <td>0</td>\n",
       "      <td>0</td>\n",
       "      <td>0</td>\n",
       "      <td>0</td>\n",
       "      <td>0</td>\n",
       "      <td>0</td>\n",
       "    </tr>\n",
       "    <tr>\n",
       "      <th>3</th>\n",
       "      <td>4</td>\n",
       "      <td>2785</td>\n",
       "      <td>155</td>\n",
       "      <td>18</td>\n",
       "      <td>242</td>\n",
       "      <td>118</td>\n",
       "      <td>3090</td>\n",
       "      <td>238</td>\n",
       "      <td>238</td>\n",
       "      <td>122</td>\n",
       "      <td>...</td>\n",
       "      <td>0</td>\n",
       "      <td>0</td>\n",
       "      <td>0</td>\n",
       "      <td>0</td>\n",
       "      <td>0</td>\n",
       "      <td>0</td>\n",
       "      <td>0</td>\n",
       "      <td>0</td>\n",
       "      <td>0</td>\n",
       "      <td>0</td>\n",
       "    </tr>\n",
       "    <tr>\n",
       "      <th>4</th>\n",
       "      <td>5</td>\n",
       "      <td>2595</td>\n",
       "      <td>45</td>\n",
       "      <td>2</td>\n",
       "      <td>153</td>\n",
       "      <td>-1</td>\n",
       "      <td>391</td>\n",
       "      <td>220</td>\n",
       "      <td>234</td>\n",
       "      <td>150</td>\n",
       "      <td>...</td>\n",
       "      <td>0</td>\n",
       "      <td>0</td>\n",
       "      <td>0</td>\n",
       "      <td>0</td>\n",
       "      <td>0</td>\n",
       "      <td>0</td>\n",
       "      <td>0</td>\n",
       "      <td>0</td>\n",
       "      <td>0</td>\n",
       "      <td>0</td>\n",
       "    </tr>\n",
       "  </tbody>\n",
       "</table>\n",
       "<p>5 rows × 55 columns</p>\n",
       "</div>"
      ],
      "text/plain": [
       "   Id  Elevation  Aspect  Slope  Horizontal_Distance_To_Hydrology  \\\n",
       "0   1       2596      51      3                               258   \n",
       "1   2       2590      56      2                               212   \n",
       "2   3       2804     139      9                               268   \n",
       "3   4       2785     155     18                               242   \n",
       "4   5       2595      45      2                               153   \n",
       "\n",
       "   Vertical_Distance_To_Hydrology  Horizontal_Distance_To_Roadways  \\\n",
       "0                               0                              510   \n",
       "1                              -6                              390   \n",
       "2                              65                             3180   \n",
       "3                             118                             3090   \n",
       "4                              -1                              391   \n",
       "\n",
       "   Hillshade_9am  Hillshade_Noon  Hillshade_3pm  ...  Soil_Type31  \\\n",
       "0            221             232            148  ...            0   \n",
       "1            220             235            151  ...            0   \n",
       "2            234             238            135  ...            0   \n",
       "3            238             238            122  ...            0   \n",
       "4            220             234            150  ...            0   \n",
       "\n",
       "   Soil_Type32  Soil_Type33  Soil_Type34  Soil_Type35  Soil_Type36  \\\n",
       "0            0            0            0            0            0   \n",
       "1            0            0            0            0            0   \n",
       "2            0            0            0            0            0   \n",
       "3            0            0            0            0            0   \n",
       "4            0            0            0            0            0   \n",
       "\n",
       "   Soil_Type37  Soil_Type38  Soil_Type39  Soil_Type40  \n",
       "0            0            0            0            0  \n",
       "1            0            0            0            0  \n",
       "2            0            0            0            0  \n",
       "3            0            0            0            0  \n",
       "4            0            0            0            0  \n",
       "\n",
       "[5 rows x 55 columns]"
      ]
     },
     "execution_count": 4,
     "metadata": {},
     "output_type": "execute_result"
    }
   ],
   "source": [
    "df_test.head()"
   ]
  },
  {
   "cell_type": "code",
   "execution_count": 5,
   "metadata": {},
   "outputs": [
    {
     "data": {
      "text/plain": [
       "1    2160\n",
       "2    2160\n",
       "3    2160\n",
       "4    2160\n",
       "5    2160\n",
       "6    2160\n",
       "7    2160\n",
       "Name: Cover_Type, dtype: int64"
      ]
     },
     "execution_count": 5,
     "metadata": {},
     "output_type": "execute_result"
    }
   ],
   "source": [
    "df_train[\"Cover_Type\"].value_counts()"
   ]
  },
  {
   "cell_type": "markdown",
   "metadata": {},
   "source": [
    "### Basis script"
   ]
  },
  {
   "cell_type": "code",
   "execution_count": 6,
   "metadata": {},
   "outputs": [],
   "source": [
    "from sklearn.ensemble import RandomForestClassifier\n",
    "\n",
    "# Separate features and target \n",
    "X_train = df_train.drop('Cover_Type', axis=1)\n",
    "y_train = df_train['Cover_Type']\n",
    "\n",
    "# Initialize and train a Random Forest classifier\n",
    "clf = RandomForestClassifier(n_estimators=100, random_state=42)\n",
    "clf.fit(X_train, y_train)\n",
    "\n",
    "# Creating a Test dataset\n",
    "X_test = df_test\n",
    "\n",
    "# Make predictions on the test dataset\n",
    "y_pred = clf.predict(X_test)\n",
    "\n",
    "# Saving predictions to a CSV file\n",
    "predictions_df = pd.DataFrame({'Cover_Type': y_pred})\n",
    "\n",
    "# Having it fit the desired format\n",
    "Id = [i for i in range (1, 581013)]\n",
    "predictions_df['Id'] = Id\n",
    "# predictions_df.to_csv('test_predictions.csv', index=False) # peut-être plus simple de directement mettre index = True\n"
   ]
  },
  {
   "cell_type": "code",
   "execution_count": 7,
   "metadata": {},
   "outputs": [
    {
     "data": {
      "text/plain": [
       "2    236112\n",
       "1    216326\n",
       "3     38178\n",
       "7     31667\n",
       "5     28425\n",
       "6     26278\n",
       "4      4026\n",
       "Name: Cover_Type, dtype: int64"
      ]
     },
     "execution_count": 7,
     "metadata": {},
     "output_type": "execute_result"
    }
   ],
   "source": [
    "predictions_df[\"Cover_Type\"].value_counts()"
   ]
  },
  {
   "cell_type": "markdown",
   "metadata": {},
   "source": [
    "### First train-test"
   ]
  },
  {
   "cell_type": "code",
   "execution_count": 8,
   "metadata": {},
   "outputs": [],
   "source": [
    "from sklearn.ensemble import RandomForestClassifier\n",
    "from sklearn.model_selection import train_test_split\n",
    "from sklearn.metrics import accuracy_score, classification_report\n",
    "\n",
    "# Si on met que la df en input\n",
    "def RF_classif(df_train=df_train):\n",
    "    \n",
    "    if \"Wilderness_Area_Synth\" in df_train.columns:\n",
    "        df_train = df_train.drop(columns=\"Wilderness_Area_Synth\")\n",
    "\n",
    "    # Separate features and target \n",
    "    X_train = df_train.drop('Cover_Type', axis=1)\n",
    "    y_train = df_train['Cover_Type']\n",
    "\n",
    "    data_train, data_test, target_train, target_test = train_test_split(\n",
    "        X_train, y_train, test_size = 0.2\n",
    "    )\n",
    "\n",
    "    # Initialize and train a Random Forest classifier\n",
    "    clf = RandomForestClassifier(n_estimators=150)\n",
    "    clf.fit(data_train, target_train)\n",
    "\n",
    "    # Make predictions on the test dataset\n",
    "    y_pred = clf.predict(data_test)\n",
    "    \n",
    "    return target_test, y_pred\n",
    "\n",
    "# Si test & train déjà définis\n",
    "def RF_classif_train_test(data_train, target_train, data_test, target_test):\n",
    "\n",
    "    # Initialize and train a Random Forest classifier\n",
    "    clf = RandomForestClassifier(n_estimators=100, random_state=42)\n",
    "    clf.fit(data_train, target_train)\n",
    "\n",
    "    # Make predictions on the test dataset\n",
    "    y_pred = clf.predict(data_test)\n",
    "    \n",
    "    return target_test, y_pred"
   ]
  },
  {
   "cell_type": "code",
   "execution_count": 9,
   "metadata": {},
   "outputs": [
    {
     "data": {
      "text/plain": [
       "0.8799603174603174"
      ]
     },
     "execution_count": 9,
     "metadata": {},
     "output_type": "execute_result"
    }
   ],
   "source": [
    "y_true, y_pred = RF_classif()\n",
    "accuracy_score(y_true, y_pred) # bien meilleur score que sur Kags"
   ]
  },
  {
   "cell_type": "code",
   "execution_count": 11,
   "metadata": {},
   "outputs": [
    {
     "name": "stdout",
     "output_type": "stream",
     "text": [
      "              precision    recall  f1-score   support\n",
      "\n",
      "           1       0.82      0.78      0.80       468\n",
      "           2       0.79      0.70      0.75       429\n",
      "           3       0.88      0.86      0.87       425\n",
      "           4       0.95      0.99      0.97       402\n",
      "           5       0.92      0.96      0.94       446\n",
      "           6       0.86      0.90      0.88       429\n",
      "           7       0.92      0.98      0.95       425\n",
      "\n",
      "    accuracy                           0.88      3024\n",
      "   macro avg       0.88      0.88      0.88      3024\n",
      "weighted avg       0.88      0.88      0.88      3024\n",
      "\n"
     ]
    }
   ],
   "source": [
    "print(classification_report(y_true, y_pred))\n",
    "\n",
    "# On prédit moins bien 1 et 2, ce qui est un problème pcq représentent une immense majorité du dataset final"
   ]
  },
  {
   "cell_type": "markdown",
   "metadata": {},
   "source": [
    "# Over/undersampling"
   ]
  },
  {
   "cell_type": "code",
   "execution_count": 13,
   "metadata": {},
   "outputs": [],
   "source": [
    "# on peut essayer d'undersampler wilderness area 4 \n",
    "# pcq à ce stade il semblerait que a été tiré uniformément dans les wilderness areas\n",
    "\n",
    "# ou alors oversampler tous les autres pour aboutir à des proportions similaires à celles d'origine\n",
    "\n",
    "# Ou alors oversampler directement des classes (ex 1 et 2 mais peut être problématique)"
   ]
  },
  {
   "cell_type": "markdown",
   "metadata": {},
   "source": [
    "### Undersampling WA4"
   ]
  },
  {
   "cell_type": "code",
   "execution_count": 14,
   "metadata": {},
   "outputs": [
    {
     "data": {
      "text/plain": [
       "967.6800000000002"
      ]
     },
     "execution_count": 14,
     "metadata": {},
     "output_type": "execute_result"
    }
   ],
   "source": [
    "# How much class 4 do we want\n",
    "0.08 * len(df_train) * 0.8"
   ]
  },
  {
   "cell_type": "code",
   "execution_count": 15,
   "metadata": {},
   "outputs": [
    {
     "ename": "KeyError",
     "evalue": "\"['Wilderness_Area_Synth'] not found in axis\"",
     "output_type": "error",
     "traceback": [
      "\u001b[1;31m---------------------------------------------------------------------------\u001b[0m",
      "\u001b[1;31mKeyError\u001b[0m                                  Traceback (most recent call last)",
      "Cell \u001b[1;32mIn[15], line 19\u001b[0m\n\u001b[0;32m     16\u001b[0m under_sampler \u001b[38;5;241m=\u001b[39m RandomUnderSampler(sampling_strategy\u001b[38;5;241m=\u001b[39m{\u001b[38;5;241m4\u001b[39m: \u001b[38;5;241m1000\u001b[39m})\n\u001b[0;32m     18\u001b[0m \u001b[38;5;66;03m# Undersampling on the wilderness area\u001b[39;00m\n\u001b[1;32m---> 19\u001b[0m X_try \u001b[38;5;241m=\u001b[39m data_train\u001b[38;5;241m.\u001b[39mdrop(\u001b[38;5;124m'\u001b[39m\u001b[38;5;124mWilderness_Area_Synth\u001b[39m\u001b[38;5;124m'\u001b[39m, axis\u001b[38;5;241m=\u001b[39m\u001b[38;5;241m1\u001b[39m)\n\u001b[0;32m     20\u001b[0m y_try \u001b[38;5;241m=\u001b[39m data_train[\u001b[38;5;124m\"\u001b[39m\u001b[38;5;124mWilderness_Area_Synth\u001b[39m\u001b[38;5;124m\"\u001b[39m]\n\u001b[0;32m     21\u001b[0m X_resampled, _ \u001b[38;5;241m=\u001b[39m under_sampler\u001b[38;5;241m.\u001b[39mfit_resample(X_try, y_try)\n",
      "File \u001b[1;32mc:\\Users\\User\\anaconda3\\Lib\\site-packages\\pandas\\util\\_decorators.py:331\u001b[0m, in \u001b[0;36mdeprecate_nonkeyword_arguments.<locals>.decorate.<locals>.wrapper\u001b[1;34m(*args, **kwargs)\u001b[0m\n\u001b[0;32m    325\u001b[0m \u001b[38;5;28;01mif\u001b[39;00m \u001b[38;5;28mlen\u001b[39m(args) \u001b[38;5;241m>\u001b[39m num_allow_args:\n\u001b[0;32m    326\u001b[0m     warnings\u001b[38;5;241m.\u001b[39mwarn(\n\u001b[0;32m    327\u001b[0m         msg\u001b[38;5;241m.\u001b[39mformat(arguments\u001b[38;5;241m=\u001b[39m_format_argument_list(allow_args)),\n\u001b[0;32m    328\u001b[0m         \u001b[38;5;167;01mFutureWarning\u001b[39;00m,\n\u001b[0;32m    329\u001b[0m         stacklevel\u001b[38;5;241m=\u001b[39mfind_stack_level(),\n\u001b[0;32m    330\u001b[0m     )\n\u001b[1;32m--> 331\u001b[0m \u001b[38;5;28;01mreturn\u001b[39;00m func(\u001b[38;5;241m*\u001b[39margs, \u001b[38;5;241m*\u001b[39m\u001b[38;5;241m*\u001b[39mkwargs)\n",
      "File \u001b[1;32mc:\\Users\\User\\anaconda3\\Lib\\site-packages\\pandas\\core\\frame.py:5399\u001b[0m, in \u001b[0;36mDataFrame.drop\u001b[1;34m(self, labels, axis, index, columns, level, inplace, errors)\u001b[0m\n\u001b[0;32m   5251\u001b[0m \u001b[38;5;129m@deprecate_nonkeyword_arguments\u001b[39m(version\u001b[38;5;241m=\u001b[39m\u001b[38;5;28;01mNone\u001b[39;00m, allowed_args\u001b[38;5;241m=\u001b[39m[\u001b[38;5;124m\"\u001b[39m\u001b[38;5;124mself\u001b[39m\u001b[38;5;124m\"\u001b[39m, \u001b[38;5;124m\"\u001b[39m\u001b[38;5;124mlabels\u001b[39m\u001b[38;5;124m\"\u001b[39m])\n\u001b[0;32m   5252\u001b[0m \u001b[38;5;28;01mdef\u001b[39;00m \u001b[38;5;21mdrop\u001b[39m(  \u001b[38;5;66;03m# type: ignore[override]\u001b[39;00m\n\u001b[0;32m   5253\u001b[0m     \u001b[38;5;28mself\u001b[39m,\n\u001b[1;32m   (...)\u001b[0m\n\u001b[0;32m   5260\u001b[0m     errors: IgnoreRaise \u001b[38;5;241m=\u001b[39m \u001b[38;5;124m\"\u001b[39m\u001b[38;5;124mraise\u001b[39m\u001b[38;5;124m\"\u001b[39m,\n\u001b[0;32m   5261\u001b[0m ) \u001b[38;5;241m-\u001b[39m\u001b[38;5;241m>\u001b[39m DataFrame \u001b[38;5;241m|\u001b[39m \u001b[38;5;28;01mNone\u001b[39;00m:\n\u001b[0;32m   5262\u001b[0m \u001b[38;5;250m    \u001b[39m\u001b[38;5;124;03m\"\"\"\u001b[39;00m\n\u001b[0;32m   5263\u001b[0m \u001b[38;5;124;03m    Drop specified labels from rows or columns.\u001b[39;00m\n\u001b[0;32m   5264\u001b[0m \n\u001b[1;32m   (...)\u001b[0m\n\u001b[0;32m   5397\u001b[0m \u001b[38;5;124;03m            weight  1.0     0.8\u001b[39;00m\n\u001b[0;32m   5398\u001b[0m \u001b[38;5;124;03m    \"\"\"\u001b[39;00m\n\u001b[1;32m-> 5399\u001b[0m     \u001b[38;5;28;01mreturn\u001b[39;00m \u001b[38;5;28msuper\u001b[39m()\u001b[38;5;241m.\u001b[39mdrop(\n\u001b[0;32m   5400\u001b[0m         labels\u001b[38;5;241m=\u001b[39mlabels,\n\u001b[0;32m   5401\u001b[0m         axis\u001b[38;5;241m=\u001b[39maxis,\n\u001b[0;32m   5402\u001b[0m         index\u001b[38;5;241m=\u001b[39mindex,\n\u001b[0;32m   5403\u001b[0m         columns\u001b[38;5;241m=\u001b[39mcolumns,\n\u001b[0;32m   5404\u001b[0m         level\u001b[38;5;241m=\u001b[39mlevel,\n\u001b[0;32m   5405\u001b[0m         inplace\u001b[38;5;241m=\u001b[39minplace,\n\u001b[0;32m   5406\u001b[0m         errors\u001b[38;5;241m=\u001b[39merrors,\n\u001b[0;32m   5407\u001b[0m     )\n",
      "File \u001b[1;32mc:\\Users\\User\\anaconda3\\Lib\\site-packages\\pandas\\util\\_decorators.py:331\u001b[0m, in \u001b[0;36mdeprecate_nonkeyword_arguments.<locals>.decorate.<locals>.wrapper\u001b[1;34m(*args, **kwargs)\u001b[0m\n\u001b[0;32m    325\u001b[0m \u001b[38;5;28;01mif\u001b[39;00m \u001b[38;5;28mlen\u001b[39m(args) \u001b[38;5;241m>\u001b[39m num_allow_args:\n\u001b[0;32m    326\u001b[0m     warnings\u001b[38;5;241m.\u001b[39mwarn(\n\u001b[0;32m    327\u001b[0m         msg\u001b[38;5;241m.\u001b[39mformat(arguments\u001b[38;5;241m=\u001b[39m_format_argument_list(allow_args)),\n\u001b[0;32m    328\u001b[0m         \u001b[38;5;167;01mFutureWarning\u001b[39;00m,\n\u001b[0;32m    329\u001b[0m         stacklevel\u001b[38;5;241m=\u001b[39mfind_stack_level(),\n\u001b[0;32m    330\u001b[0m     )\n\u001b[1;32m--> 331\u001b[0m \u001b[38;5;28;01mreturn\u001b[39;00m func(\u001b[38;5;241m*\u001b[39margs, \u001b[38;5;241m*\u001b[39m\u001b[38;5;241m*\u001b[39mkwargs)\n",
      "File \u001b[1;32mc:\\Users\\User\\anaconda3\\Lib\\site-packages\\pandas\\core\\generic.py:4505\u001b[0m, in \u001b[0;36mNDFrame.drop\u001b[1;34m(self, labels, axis, index, columns, level, inplace, errors)\u001b[0m\n\u001b[0;32m   4503\u001b[0m \u001b[38;5;28;01mfor\u001b[39;00m axis, labels \u001b[38;5;129;01min\u001b[39;00m axes\u001b[38;5;241m.\u001b[39mitems():\n\u001b[0;32m   4504\u001b[0m     \u001b[38;5;28;01mif\u001b[39;00m labels \u001b[38;5;129;01mis\u001b[39;00m \u001b[38;5;129;01mnot\u001b[39;00m \u001b[38;5;28;01mNone\u001b[39;00m:\n\u001b[1;32m-> 4505\u001b[0m         obj \u001b[38;5;241m=\u001b[39m obj\u001b[38;5;241m.\u001b[39m_drop_axis(labels, axis, level\u001b[38;5;241m=\u001b[39mlevel, errors\u001b[38;5;241m=\u001b[39merrors)\n\u001b[0;32m   4507\u001b[0m \u001b[38;5;28;01mif\u001b[39;00m inplace:\n\u001b[0;32m   4508\u001b[0m     \u001b[38;5;28mself\u001b[39m\u001b[38;5;241m.\u001b[39m_update_inplace(obj)\n",
      "File \u001b[1;32mc:\\Users\\User\\anaconda3\\Lib\\site-packages\\pandas\\core\\generic.py:4546\u001b[0m, in \u001b[0;36mNDFrame._drop_axis\u001b[1;34m(self, labels, axis, level, errors, only_slice)\u001b[0m\n\u001b[0;32m   4544\u001b[0m         new_axis \u001b[38;5;241m=\u001b[39m axis\u001b[38;5;241m.\u001b[39mdrop(labels, level\u001b[38;5;241m=\u001b[39mlevel, errors\u001b[38;5;241m=\u001b[39merrors)\n\u001b[0;32m   4545\u001b[0m     \u001b[38;5;28;01melse\u001b[39;00m:\n\u001b[1;32m-> 4546\u001b[0m         new_axis \u001b[38;5;241m=\u001b[39m axis\u001b[38;5;241m.\u001b[39mdrop(labels, errors\u001b[38;5;241m=\u001b[39merrors)\n\u001b[0;32m   4547\u001b[0m     indexer \u001b[38;5;241m=\u001b[39m axis\u001b[38;5;241m.\u001b[39mget_indexer(new_axis)\n\u001b[0;32m   4549\u001b[0m \u001b[38;5;66;03m# Case for non-unique axis\u001b[39;00m\n\u001b[0;32m   4550\u001b[0m \u001b[38;5;28;01melse\u001b[39;00m:\n",
      "File \u001b[1;32mc:\\Users\\User\\anaconda3\\Lib\\site-packages\\pandas\\core\\indexes\\base.py:6934\u001b[0m, in \u001b[0;36mIndex.drop\u001b[1;34m(self, labels, errors)\u001b[0m\n\u001b[0;32m   6932\u001b[0m \u001b[38;5;28;01mif\u001b[39;00m mask\u001b[38;5;241m.\u001b[39many():\n\u001b[0;32m   6933\u001b[0m     \u001b[38;5;28;01mif\u001b[39;00m errors \u001b[38;5;241m!=\u001b[39m \u001b[38;5;124m\"\u001b[39m\u001b[38;5;124mignore\u001b[39m\u001b[38;5;124m\"\u001b[39m:\n\u001b[1;32m-> 6934\u001b[0m         \u001b[38;5;28;01mraise\u001b[39;00m \u001b[38;5;167;01mKeyError\u001b[39;00m(\u001b[38;5;124mf\u001b[39m\u001b[38;5;124m\"\u001b[39m\u001b[38;5;132;01m{\u001b[39;00m\u001b[38;5;28mlist\u001b[39m(labels[mask])\u001b[38;5;132;01m}\u001b[39;00m\u001b[38;5;124m not found in axis\u001b[39m\u001b[38;5;124m\"\u001b[39m)\n\u001b[0;32m   6935\u001b[0m     indexer \u001b[38;5;241m=\u001b[39m indexer[\u001b[38;5;241m~\u001b[39mmask]\n\u001b[0;32m   6936\u001b[0m \u001b[38;5;28;01mreturn\u001b[39;00m \u001b[38;5;28mself\u001b[39m\u001b[38;5;241m.\u001b[39mdelete(indexer)\n",
      "\u001b[1;31mKeyError\u001b[0m: \"['Wilderness_Area_Synth'] not found in axis\""
     ]
    }
   ],
   "source": [
    "### UNDERSAMPLING W4\n",
    "\n",
    "from imblearn.under_sampling import RandomUnderSampler\n",
    "\n",
    "# Separating train and test\n",
    "X = df_train.drop('Cover_Type', axis=1)\n",
    "y = df_train['Cover_Type']\n",
    "X_train, X_test, y_train, y_test = train_test_split(\n",
    "    X, y, test_size=0.2\n",
    ")\n",
    "\n",
    "# Reuniting data_train and target_train\n",
    "data_train = pd.concat([X_train, pd.DataFrame(y_train, columns=['Cover_Type'])], axis=1)\n",
    "\n",
    "# Define the under-sampler\n",
    "under_sampler = RandomUnderSampler(sampling_strategy={4: 1000})\n",
    "\n",
    "# Undersampling on the wilderness area\n",
    "X_try = data_train.drop('Wilderness_Area_Synth', axis=1)\n",
    "y_try = data_train[\"Wilderness_Area_Synth\"]\n",
    "X_resampled, _ = under_sampler.fit_resample(X_try, y_try)\n",
    "X_resampled = pd.DataFrame(X_resampled, columns=X_try.columns)\n",
    "\n",
    "# Finalizing on the columns \n",
    "X_train_synth = X_resampled.drop('Cover_Type', axis=1)\n",
    "y_train_synth = X_resampled[\"Cover_Type\"]\n",
    "X_test = X_test.drop('Wilderness_Area_Synth', axis=1)"
   ]
  },
  {
   "cell_type": "code",
   "execution_count": null,
   "metadata": {},
   "outputs": [
    {
     "data": {
      "text/plain": [
       "Wilderness_Area1    2847\n",
       "Wilderness_Area2     445\n",
       "Wilderness_Area3    5058\n",
       "Wilderness_Area4    1000\n",
       "dtype: int64"
      ]
     },
     "execution_count": 79,
     "metadata": {},
     "output_type": "execute_result"
    }
   ],
   "source": [
    "X_train_synth[wilderness_types].sum()"
   ]
  },
  {
   "cell_type": "code",
   "execution_count": null,
   "metadata": {},
   "outputs": [
    {
     "name": "stdout",
     "output_type": "stream",
     "text": [
      "              precision    recall  f1-score   support\n",
      "\n",
      "           1       0.80      0.81      0.81       435\n",
      "           2       0.84      0.72      0.78       429\n",
      "           3       0.83      0.80      0.82       427\n",
      "           4       0.90      0.97      0.94       430\n",
      "           5       0.91      0.94      0.93       406\n",
      "           6       0.83      0.85      0.84       436\n",
      "           7       0.93      0.97      0.95       461\n",
      "\n",
      "    accuracy                           0.87      3024\n",
      "   macro avg       0.87      0.87      0.87      3024\n",
      "weighted avg       0.87      0.87      0.87      3024\n",
      "\n"
     ]
    }
   ],
   "source": [
    "y_true, y_pred = RF_classif_train_test(X_train_synth, y_train_synth, X_test, y_test)\n",
    "\n",
    "print(classification_report(y_true, y_pred))"
   ]
  },
  {
   "cell_type": "code",
   "execution_count": null,
   "metadata": {},
   "outputs": [],
   "source": [
    "### => Ne semble pas très concluant à priori mais à tester sur le Kaggle"
   ]
  },
  {
   "cell_type": "markdown",
   "metadata": {},
   "source": [
    "### Oversampling WA1 "
   ]
  },
  {
   "cell_type": "code",
   "execution_count": null,
   "metadata": {},
   "outputs": [
    {
     "data": {
      "text/plain": [
       "3    5058\n",
       "4    3746\n",
       "1    2847\n",
       "2     445\n",
       "Name: Wilderness_Area_Synth, dtype: int64"
      ]
     },
     "execution_count": 82,
     "metadata": {},
     "output_type": "execute_result"
    }
   ],
   "source": [
    "data_train[\"Wilderness_Area_Synth\"].value_counts()"
   ]
  },
  {
   "cell_type": "code",
   "execution_count": null,
   "metadata": {},
   "outputs": [],
   "source": [
    "WA_proportions = {1: 0.45,\n",
    "               2: 0.05,\n",
    "               3: 0.44,\n",
    "               4: 0.06}\n",
    "\n",
    "ovs_strat = {1: 20_000, 3:20_000}"
   ]
  },
  {
   "cell_type": "code",
   "execution_count": null,
   "metadata": {},
   "outputs": [],
   "source": [
    "### OVERSAMPLING W1\n",
    "\n",
    "from imblearn.over_sampling import ADASYN\n",
    "\n",
    "# Separating train and test\n",
    "X = df_train.drop('Cover_Type', axis=1)\n",
    "y = df_train['Cover_Type']\n",
    "X_train, X_test, y_train, y_test = train_test_split(\n",
    "    X, y, test_size=0.2\n",
    ")\n",
    "\n",
    "# Reuniting data_train and target_train\n",
    "data_train = pd.concat([X_train, pd.DataFrame(y_train, columns=['Cover_Type'])], axis=1)\n",
    "\n",
    "# Define the under-sampler\n",
    "adasyn = ADASYN(sampling_strategy=ovs_strat)\n",
    "\n",
    "# Undersampling on the wilderness area\n",
    "X_try = data_train.drop('Wilderness_Area_Synth', axis=1)\n",
    "y_try = data_train[\"Wilderness_Area_Synth\"]\n",
    "X_resampled, _ = adasyn.fit_resample(X_try, y_try)\n",
    "X_resampled = pd.DataFrame(X_resampled, columns=X_try.columns)\n",
    "\n",
    "# Finalizing on the columns \n",
    "X_train_synth = X_resampled.drop('Cover_Type', axis=1)\n",
    "y_train_synth = X_resampled[\"Cover_Type\"]\n",
    "X_test = X_test.drop('Wilderness_Area_Synth', axis=1)"
   ]
  },
  {
   "cell_type": "code",
   "execution_count": null,
   "metadata": {},
   "outputs": [
    {
     "data": {
      "text/plain": [
       "1    15629\n",
       "2     7740\n",
       "5     5701\n",
       "7     4365\n",
       "3     3820\n",
       "4     3580\n",
       "6     3319\n",
       "Name: Cover_Type, dtype: int64"
      ]
     },
     "execution_count": 85,
     "metadata": {},
     "output_type": "execute_result"
    }
   ],
   "source": [
    "y_train_synth.value_counts()"
   ]
  },
  {
   "cell_type": "code",
   "execution_count": null,
   "metadata": {},
   "outputs": [
    {
     "name": "stdout",
     "output_type": "stream",
     "text": [
      "              precision    recall  f1-score   support\n",
      "\n",
      "           1       0.77      0.82      0.80       408\n",
      "           2       0.81      0.66      0.73       429\n",
      "           3       0.88      0.86      0.87       461\n",
      "           4       0.93      0.98      0.95       431\n",
      "           5       0.90      0.95      0.93       422\n",
      "           6       0.87      0.88      0.88       441\n",
      "           7       0.96      0.97      0.96       432\n",
      "\n",
      "    accuracy                           0.88      3024\n",
      "   macro avg       0.87      0.88      0.87      3024\n",
      "weighted avg       0.87      0.88      0.87      3024\n",
      "\n"
     ]
    }
   ],
   "source": [
    "y_true, y_pred = RF_classif_train_test(X_train_synth, y_train_synth, X_test, y_test)\n",
    "\n",
    "print(classification_report(y_true, y_pred))"
   ]
  },
  {
   "cell_type": "code",
   "execution_count": null,
   "metadata": {},
   "outputs": [],
   "source": [
    "### Pas très net non plus mais on voit qu'on prédit mieux C1 quand même..."
   ]
  },
  {
   "cell_type": "markdown",
   "metadata": {},
   "source": [
    "### Combining under and oversampler"
   ]
  },
  {
   "cell_type": "code",
   "execution_count": null,
   "metadata": {},
   "outputs": [],
   "source": [
    "ovs_strat = {1: 20_000, 3:20_000}\n",
    "uds_strat = {4: 1000}"
   ]
  },
  {
   "cell_type": "code",
   "execution_count": null,
   "metadata": {},
   "outputs": [],
   "source": [
    "from imblearn.pipeline import Pipeline\n",
    "\n",
    "# Separating train and test\n",
    "X = df_train.drop('Cover_Type', axis=1)\n",
    "y = df_train['Cover_Type']\n",
    "X_train, X_test, y_train, y_test = train_test_split(\n",
    "    X, y, test_size=0.2\n",
    ")\n",
    "\n",
    "# Reuniting data_train and target_train\n",
    "data_train = pd.concat([X_train, pd.DataFrame(y_train, columns=['Cover_Type'])], axis=1)\n",
    "\n",
    "# Define the under-over-sampler\n",
    "pipeline = Pipeline([\n",
    "    ('under', RandomUnderSampler(sampling_strategy=uds_strat)), \n",
    "    ('over', ADASYN(sampling_strategy=ovs_strat))  \n",
    "])\n",
    "\n",
    "# Undersampling on the wilderness area\n",
    "X_try = data_train.drop('Wilderness_Area_Synth', axis=1)\n",
    "y_try = data_train[\"Wilderness_Area_Synth\"]\n",
    "X_resampled, _ = pipeline.fit_resample(X_try, y_try)\n",
    "X_resampled = pd.DataFrame(X_resampled, columns=X_try.columns)\n",
    "\n",
    "# Finalizing on the columns \n",
    "X_train_synth = X_resampled.drop('Cover_Type', axis=1)\n",
    "y_train_synth = X_resampled[\"Cover_Type\"]\n",
    "X_test = X_test.drop('Wilderness_Area_Synth', axis=1)"
   ]
  },
  {
   "cell_type": "code",
   "execution_count": null,
   "metadata": {},
   "outputs": [
    {
     "data": {
      "text/plain": [
       "Wilderness_Area1    19974\n",
       "Wilderness_Area2      467\n",
       "Wilderness_Area3    20131\n",
       "Wilderness_Area4     1000\n",
       "dtype: int64"
      ]
     },
     "execution_count": 90,
     "metadata": {},
     "output_type": "execute_result"
    }
   ],
   "source": [
    "X_train_synth[wilderness_types].sum()"
   ]
  },
  {
   "cell_type": "code",
   "execution_count": null,
   "metadata": {},
   "outputs": [
    {
     "data": {
      "text/plain": [
       "1    15386\n",
       "2     7974\n",
       "5     5565\n",
       "7     4732\n",
       "3     2967\n",
       "6     2611\n",
       "4     2337\n",
       "Name: Cover_Type, dtype: int64"
      ]
     },
     "execution_count": 91,
     "metadata": {},
     "output_type": "execute_result"
    }
   ],
   "source": [
    "y_train_synth.value_counts()"
   ]
  },
  {
   "cell_type": "code",
   "execution_count": null,
   "metadata": {},
   "outputs": [],
   "source": [
    "### Pb on n'arrive pas aux proportions prédites dans le dataset test\n",
    "# alors essayer de travailler directement sur Cover_Type plutôt que WA?"
   ]
  },
  {
   "cell_type": "markdown",
   "metadata": {},
   "source": [
    "### Working directly on the Cover Type"
   ]
  },
  {
   "cell_type": "code",
   "execution_count": null,
   "metadata": {},
   "outputs": [
    {
     "data": {
      "text/plain": [
       "2    0.406381\n",
       "1    0.372326\n",
       "3    0.065709\n",
       "7    0.054503\n",
       "5    0.048923\n",
       "6    0.045228\n",
       "4    0.006929\n",
       "Name: Cover_Type, dtype: float64"
      ]
     },
     "execution_count": 93,
     "metadata": {},
     "output_type": "execute_result"
    }
   ],
   "source": [
    "predictions_df[\"Cover_Type\"].value_counts() / len(predictions_df)"
   ]
  },
  {
   "cell_type": "code",
   "execution_count": null,
   "metadata": {},
   "outputs": [
    {
     "data": {
      "text/plain": [
       "1    0.142857\n",
       "2    0.142857\n",
       "3    0.142857\n",
       "4    0.142857\n",
       "5    0.142857\n",
       "6    0.142857\n",
       "7    0.142857\n",
       "Name: Cover_Type, dtype: float64"
      ]
     },
     "execution_count": 94,
     "metadata": {},
     "output_type": "execute_result"
    }
   ],
   "source": [
    "df_train[\"Cover_Type\"].value_counts() / len(df_train)"
   ]
  },
  {
   "cell_type": "code",
   "execution_count": null,
   "metadata": {},
   "outputs": [],
   "source": [
    "### OVERSAMPLING CLASS 2 AND 1\n",
    "\n",
    "ovs_strat = {1: 15_000, 2: 15_000}\n",
    "\n",
    "# Separating train and test\n",
    "X = df_train.drop('Cover_Type', axis=1)\n",
    "y = df_train['Cover_Type']\n",
    "X_train, X_test, y_train, y_test = train_test_split(\n",
    "    X, y, test_size=0.2\n",
    ")\n",
    "\n",
    "# Define the over-sampler\n",
    "adasyn = ADASYN(sampling_strategy=ovs_strat)\n",
    "\n",
    "# Oversampling\n",
    "X_train_synth, y_train_synth = adasyn.fit_resample(X_train, y_train)\n",
    "X_train_synth = pd.DataFrame(X_train_synth, columns=X_train.columns)"
   ]
  },
  {
   "cell_type": "code",
   "execution_count": null,
   "metadata": {},
   "outputs": [
    {
     "data": {
      "text/plain": [
       "1    0.390051\n",
       "2    0.386478\n",
       "7    0.045005\n",
       "6    0.044979\n",
       "3    0.044720\n",
       "4    0.044642\n",
       "5    0.044125\n",
       "Name: Cover_Type, dtype: float64"
      ]
     },
     "execution_count": 96,
     "metadata": {},
     "output_type": "execute_result"
    }
   ],
   "source": [
    "y_train_synth.value_counts() / len(y_train_synth)"
   ]
  },
  {
   "cell_type": "code",
   "execution_count": null,
   "metadata": {},
   "outputs": [
    {
     "data": {
      "text/plain": [
       "3    0.417784\n",
       "1    0.358512\n",
       "2    0.124735\n",
       "4    0.098969\n",
       "Name: Wilderness_Area_Synth, dtype: float64"
      ]
     },
     "execution_count": 97,
     "metadata": {},
     "output_type": "execute_result"
    }
   ],
   "source": [
    "X_train_synth[\"Wilderness_Area_Synth\"].value_counts() / len(X_train_synth)"
   ]
  },
  {
   "cell_type": "code",
   "execution_count": null,
   "metadata": {},
   "outputs": [
    {
     "name": "stdout",
     "output_type": "stream",
     "text": [
      "              precision    recall  f1-score   support\n",
      "\n",
      "           1       0.78      0.82      0.80       440\n",
      "           2       0.72      0.77      0.74       414\n",
      "           3       0.87      0.85      0.86       433\n",
      "           4       0.94      0.98      0.96       436\n",
      "           5       0.93      0.86      0.90       456\n",
      "           6       0.88      0.85      0.86       423\n",
      "           7       0.96      0.93      0.94       422\n",
      "\n",
      "    accuracy                           0.87      3024\n",
      "   macro avg       0.87      0.87      0.87      3024\n",
      "weighted avg       0.87      0.87      0.87      3024\n",
      "\n"
     ]
    }
   ],
   "source": [
    "y_true, y_pred = RF_classif_train_test(X_train_synth, y_train_synth, X_test, y_test)\n",
    "\n",
    "print(classification_report(y_true, y_pred))"
   ]
  },
  {
   "cell_type": "code",
   "execution_count": null,
   "metadata": {},
   "outputs": [
    {
     "name": "stdout",
     "output_type": "stream",
     "text": [
      "              precision    recall  f1-score   support\n",
      "\n",
      "           1       0.82      0.79      0.80       455\n",
      "           2       0.82      0.74      0.78       455\n",
      "           3       0.89      0.87      0.88       445\n",
      "           4       0.94      0.98      0.96       427\n",
      "           5       0.90      0.95      0.93       409\n",
      "           6       0.87      0.88      0.87       402\n",
      "           7       0.94      0.98      0.96       431\n",
      "\n",
      "    accuracy                           0.88      3024\n",
      "   macro avg       0.88      0.89      0.88      3024\n",
      "weighted avg       0.88      0.88      0.88      3024\n",
      "\n"
     ]
    }
   ],
   "source": [
    "# Par rapport à avant, améliore le recall (moins de faux négatifs) mais diminue la précision (plus de faux positifs)\n",
    "\n",
    "y_true, y_pred = RF_classif(df_train)\n",
    "\n",
    "print(classification_report(y_true, y_pred))"
   ]
  },
  {
   "cell_type": "markdown",
   "metadata": {},
   "source": [
    "### Trying"
   ]
  },
  {
   "cell_type": "code",
   "execution_count": null,
   "metadata": {},
   "outputs": [],
   "source": [
    "### TEST\n",
    "from utils import clean_predictor\n",
    "\n",
    "# Initialize and train a Random Forest classifier\n",
    "clf = RandomForestClassifier(n_estimators=150)\n",
    "clf.fit(X_train_synth.drop(columns=\"Wilderness_Area_Synth\"), y_train_synth)\n",
    "\n",
    "# Make predictions on the test dataset\n",
    "y_pred = clf.predict(df_test)\n",
    "\n",
    "# Saving predictions to a CSV file\n",
    "predictions_df = clean_predictor(y_pred)\n",
    "\n",
    "# Having it fit the desired format\n",
    "predictions_df.to_csv('test_predictions.csv', index=False) # peut-être plus simple de directement mettre index = True"
   ]
  },
  {
   "cell_type": "code",
   "execution_count": null,
   "metadata": {},
   "outputs": [],
   "source": [
    "## on atteint 0.82 => Amélioration légère\n",
    "\n",
    "# Essayer de le faire de manière plus méthodique, en augmentant encore plus et notamment le WA1,\n",
    "# et en tunant : on dirait que en fonction du fit du ADASYN on a des résultats assez différents"
   ]
  },
  {
   "cell_type": "code",
   "execution_count": null,
   "metadata": {},
   "outputs": [
    {
     "data": {
      "text/plain": [
       "2    252247\n",
       "1    218870\n",
       "3     35834\n",
       "7     27168\n",
       "6     23240\n",
       "5     19491\n",
       "4      4162\n",
       "Name: Cover_Type, dtype: int64"
      ]
     },
     "execution_count": 102,
     "metadata": {},
     "output_type": "execute_result"
    }
   ],
   "source": [
    "predictions_df[\"Cover_Type\"].value_counts()"
   ]
  },
  {
   "cell_type": "code",
   "execution_count": null,
   "metadata": {},
   "outputs": [],
   "source": [
    "# On remarque que on a sensiblement plus de classe 2 prédite ici que à la base"
   ]
  },
  {
   "cell_type": "code",
   "execution_count": null,
   "metadata": {},
   "outputs": [
    {
     "data": {
      "text/plain": [
       "0.9761078042328042"
      ]
     },
     "execution_count": 104,
     "metadata": {},
     "output_type": "execute_result"
    }
   ],
   "source": [
    "y_pred = clf.predict(data_train.drop(columns=[\"Wilderness_Area_Synth\", \"Cover_Type\"]))\n",
    "accuracy_score(y_pred, data_train[\"Cover_Type\"])\n",
    "#### On voit que => créé fonction clean_predictor à invoquer quand on prédit"
   ]
  },
  {
   "cell_type": "markdown",
   "metadata": {},
   "source": [
    "## kmeans + oversampling"
   ]
  },
  {
   "cell_type": "code",
   "execution_count": null,
   "metadata": {},
   "outputs": [],
   "source": [
    "from sklearn.cluster import KMeans\n",
    "from sklearn.preprocessing import OneHotEncoder\n",
    "from sklearn.compose import ColumnTransformer\n",
    "from sklearn.pipeline import make_pipeline\n",
    "\n",
    "\n",
    "### 1. OVERSAMPLING CLASS 2 AND 1\n",
    "ovs_strat = {1: 30_000, 2: 30_000}\n",
    "\n",
    "# Separating train \n",
    "X_train = df_train.drop(columns=['Cover_Type', 'Wilderness_Area_Synth'], axis=1)\n",
    "y_train = df_train['Cover_Type']\n",
    "\n",
    "# Oversampling\n",
    "adasyn = ADASYN(sampling_strategy=ovs_strat)\n",
    "X_train_synth, y_train_synth = adasyn.fit_resample(X_train, y_train)\n",
    "X_train_synth = pd.DataFrame(X_train_synth, columns=X_train.columns)\n",
    "\n",
    "### 2. KMEANS\n",
    "df_train_ns = df_train.iloc[:,:16]\n",
    "df_test_ns = df_test.iloc[:,:15]\n",
    "\n",
    "km_test = KMeans(n_clusters=3, n_init=10, init=\"k-means++\")\n",
    "km_test.fit_predict(df_test_ns)\n",
    "df_test[\"kmean_cluster\"] = km_test.labels_\n",
    "X_train_synth[\"kmean_cluster\"] = km_test.predict(X_train_synth.iloc[:,:15])\n",
    "\n",
    "### 3. GENERATING\n",
    "cat_col = [\"kmean_cluster\"]\n",
    "cols = X_train_synth.drop(columns=['kmean_cluster']).columns\n",
    "\n",
    "preprocessor = ColumnTransformer([\n",
    "        (\"cat\", OneHotEncoder(handle_unknown=\"ignore\"), cat_col),\n",
    "        (\"others\", \"passthrough\", cols),\n",
    "    ])\n",
    "clf = RandomForestClassifier(n_estimators=150)\n",
    "pipe = make_pipeline(preprocessor, clf)\n",
    "\n",
    "pipe.fit(X_train_synth, y_train_synth)\n",
    "y_pred = pipe.predict(df_test)\n",
    "predictions_df = clean_predictor(y_pred)\n",
    "\n",
    "# Having it fit the desired format\n",
    "# predictions_df.to_csv('test_predictions.csv', index=False) "
   ]
  },
  {
   "cell_type": "markdown",
   "metadata": {},
   "source": [
    "# Building a solid cross validation metric"
   ]
  },
  {
   "cell_type": "markdown",
   "metadata": {},
   "source": [
    "Idée : appliquer la \"importance weighted cross validation\" du paper.\n",
    "\n",
    "$$\\hat{R}^{(n)}_{kIWCV} = \\frac{1}{k}\\sum_{j=1}^{k} \\frac{1}{|T_j|} \\sum_{(x_i, y_i) \\in T_j} \\frac{p_{test}(x_i)}{p_{train}(x_i)} \\ell(x_i, y_i, \\hat{y_i})$$\n",
    "\n",
    "Question : comment estimer $\\frac{p_{test}(x_i)}{p_{train}(x_i)}$ pour tout $x_i$ du train set?\n"
   ]
  },
  {
   "cell_type": "markdown",
   "metadata": {},
   "source": [
    "Question : est-ce que a samplé de manière uniforme sur les classes ? Si oui, on peut juste reweighter sur les proportions des classes. Comment on peut savoir ? On peut nous aussi ressampler au hasard pour avoir des classes uniformes et voir si semble correspondre. \n",
    "\n",
    "Note ici notre loss est la l1 loss = 1 - accuracy donc on peut échanger la loss avec l'accuracy"
   ]
  },
  {
   "cell_type": "code",
   "execution_count": null,
   "metadata": {},
   "outputs": [],
   "source": [
    "### Trying to get the same data the train from the test\n",
    "class_size = 2160\n",
    "df_copy = pd.DataFrame()\n",
    "\n",
    "for label in range(1,8):\n",
    "    class_data = df_train[df_train['Cover_Type'] == label]\n",
    "    sampled_data = class_data.sample(n=class_size, replace=False, random_state=1000)\n",
    "    df_copy = pd.concat([df_copy, sampled_data])"
   ]
  },
  {
   "cell_type": "code",
   "execution_count": null,
   "metadata": {},
   "outputs": [
    {
     "data": {
      "image/png": "[encoded data removed]",
      "text/plain": [
       "<Figure size 1200x300 with 2 Axes>"
      ]
     },
     "metadata": {},
     "output_type": "display_data"
    }
   ],
   "source": [
    "fig, axs = plt.subplots(1, 2, figsize=(12, 3))\n",
    "axs[0].hist([df_train[\"Id\"], df_copy[\"Id\"]], bins=100)\n",
    "axs[0].set_title(f'With 100 bins - Perfect match')\n",
    "axs[1].hist([df_train[\"Id\"], df_copy[\"Id\"]], bins=range(0, 600_000, 1000))\n",
    "axs[1].set_title(f'With 1000 bins - slight glitch in first indexes')\n",
    "plt.show()"
   ]
  },
  {
   "cell_type": "markdown",
   "metadata": {},
   "source": [
    "Correspond globalement.\n",
    "\n",
    "On peut donc faire $\\frac{p_{test}(x_i)}{p_{train}(x_i)} = \\frac{p_{train}(y_i|x_i) p_{test}(y_i) p_{test}(x_i|y_i)}{p_{test}(y_i|x_i) p_{train}(y_i) p_{train}(x_i|y_i)}$\n",
    "\n",
    "Puis on annule $\\frac{p_{train}(y_i|x_i)}{p_{test}(y_i|x_i)}$ par assumption (label shift) et $\\frac{p_{train}(x_i|y_i)}{p_{test}(x_i|y_i)}$ par ce qu'on vient de voir (au sein d'une classe donnée, les X ont la même distribution)\n",
    "\n",
    "Il reste $\\frac{p_{test}(x_i)}{p_{train}(x_i)} = \\frac{p_{test}(y_i)}{p_{train}(y_i)}$, que l'on peut estimer directement avec les proportions de chaque classe dans le train et indirectement avec les proportions prédites dans le train (c'est une approximation mais ça fera l'affaire"
   ]
  },
  {
   "cell_type": "code",
   "execution_count": null,
   "metadata": {},
   "outputs": [
    {
     "data": {
      "text/plain": [
       "1    2.63\n",
       "2    3.07\n",
       "3    0.43\n",
       "4    0.05\n",
       "5    0.23\n",
       "6    0.27\n",
       "7    0.32\n",
       "Name: Cover_Type, dtype: float64"
      ]
     },
     "execution_count": 108,
     "metadata": {},
     "output_type": "execute_result"
    }
   ],
   "source": [
    "coeffs = (predictions_df[\"Cover_Type\"].value_counts() / len(predictions_df) / df_train[\"Cover_Type\"].value_counts() * len(df_train)).round(2)\n",
    "coeffs = np.array([2.63, 3.06, 0.43, 0.05, 0.24, 0.27, 0.32])"
   ]
  },
  {
   "cell_type": "code",
   "execution_count": null,
   "metadata": {},
   "outputs": [],
   "source": [
    "def IWCV(df_train=df_train, \n",
    "         predictor=RandomForestClassifier(n_estimators=100, random_state=42), \n",
    "         k_valid=10,\n",
    "         coeffs=coeffs):\n",
    "    \n",
    "    if \"Wilderness_Area_Synth\" in df_train.columns:\n",
    "        df_train = df_train.drop(columns=\"Wilderness_Area_Synth\")\n",
    "        \n",
    "    # Separate features and target \n",
    "    X_train = df_train.drop('Cover_Type', axis=1)\n",
    "    y_train = df_train['Cover_Type']\n",
    "    \n",
    "    class_accuracies = np.zeros((k_valid, 7))\n",
    "    \n",
    "    for i in range(k_valid):\n",
    "        data_train, data_test, target_train, target_test = train_test_split(\n",
    "            X_train, y_train, test_size = 1 / k_valid\n",
    "        )\n",
    "        predictor.fit(data_train, target_train)\n",
    "        y_pred = predictor.predict(data_test)\n",
    "\n",
    "        for label in range(1,8):\n",
    "            class_accuracies[i, label - 1] = accuracy_score(target_test[target_test == label], \n",
    "                                                        y_pred[target_test == label])\n",
    "        IMCV = np.mean(class_accuracies @ coeffs) / np.sum(coeffs)\n",
    "        \n",
    "    return IMCV, class_accuracies.mean(axis=0)"
   ]
  },
  {
   "cell_type": "code",
   "execution_count": null,
   "metadata": {},
   "outputs": [
    {
     "data": {
      "text/plain": [
       "(0.7884315553654063,\n",
       " array([0.7925238 , 0.72946005, 0.87317695, 0.98105265, 0.95399631,\n",
       "        0.89033947, 0.97159815]))"
      ]
     },
     "execution_count": 111,
     "metadata": {},
     "output_type": "execute_result"
    }
   ],
   "source": [
    "IWCV()"
   ]
  },
  {
   "cell_type": "markdown",
   "metadata": {},
   "source": [
    "### Combining IWCV and oversampler"
   ]
  },
  {
   "cell_type": "code",
   "execution_count": null,
   "metadata": {},
   "outputs": [],
   "source": [
    "def IWCV_oversample(df_train=df_train, \n",
    "         predictor=RandomForestClassifier(n_estimators=100, random_state=42), \n",
    "         k_valid=10,\n",
    "         coeffs=coeffs) :\n",
    "    \n",
    "    ovs_strat = {1: 30_000, 2: 30_000}\n",
    "    if \"Wilderness_Area_Synth\" in df_train.columns:\n",
    "        df_train = df_train.drop(columns=\"Wilderness_Area_Synth\")\n",
    "\n",
    "    # Define the oversampler\n",
    "    adasyn = ADASYN(sampling_strategy=ovs_strat) ## Random state = 4 ou 1 sont les meilleurs so far à 0.8297 en CV (mais fixer seed aussi en cross_val...)\n",
    "\n",
    "    # Separate features and target \n",
    "    X_train = df_train.drop('Cover_Type', axis=1)\n",
    "    y_train = df_train['Cover_Type']\n",
    "    \n",
    "    class_accuracies = np.zeros((k_valid, 7))\n",
    "    \n",
    "    for i in range(k_valid):\n",
    "        data_train, data_test, target_train, target_test = train_test_split(\n",
    "            X_train, y_train, test_size = 1 / k_valid\n",
    "        )\n",
    "        \n",
    "        # Oversampling\n",
    "        X_train_synth, y_train_synth = adasyn.fit_resample(data_train, target_train)\n",
    "        X_train_synth = pd.DataFrame(X_train_synth, columns=X_train.columns)\n",
    "        \n",
    "        predictor.fit(X_train_synth, y_train_synth)\n",
    "        y_pred = predictor.predict(data_test)\n",
    "\n",
    "        for label in range(1,8):\n",
    "            class_accuracies[i, label - 1] = accuracy_score(target_test[target_test == label], \n",
    "                                                        y_pred[target_test == label])\n",
    "        IMCV = np.mean(class_accuracies @ coeffs) / np.sum(coeffs)\n",
    "        \n",
    "    return IMCV, class_accuracies.mean(axis=0)"
   ]
  },
  {
   "cell_type": "code",
   "execution_count": null,
   "metadata": {},
   "outputs": [
    {
     "data": {
      "text/plain": [
       "(0.8295062067432254,\n",
       " array([0.84199549, 0.79138375, 0.8683433 , 0.98023105, 0.89201993,\n",
       "        0.86976146, 0.93796203]))"
      ]
     },
     "execution_count": 117,
     "metadata": {},
     "output_type": "execute_result"
    }
   ],
   "source": [
    "# Avec oversampling\n",
    "\n",
    "# IWCV_oversample() ### don't run takes long"
   ]
  },
  {
   "cell_type": "markdown",
   "metadata": {},
   "source": [
    "### Oversampling + kmeans"
   ]
  },
  {
   "cell_type": "code",
   "execution_count": null,
   "metadata": {},
   "outputs": [],
   "source": [
    "### Setting pipe\n",
    "from sklearn.preprocessing import FunctionTransformer\n",
    "\n",
    "def pipe_setter(n_clusters=3, clf=RandomForestClassifier(n_estimators=100, random_state=42)):\n",
    "    # Initializing kmeans\n",
    "    km_test = KMeans(n_clusters=n_clusters, n_init=10, init=\"k-means++\")\n",
    "    km_test.fit_predict(df_test.loc[:, \"Id\":\"Wilderness_Area4\"])\n",
    "\n",
    "    # Setting pipe\n",
    "    def _enocode_kmeans(X, kmeans=km_test):\n",
    "        X = X.copy()\n",
    "        X[\"kmean_cluster\"] = kmeans.predict(X)\n",
    "        return X\n",
    "    km_encoder = FunctionTransformer(_enocode_kmeans)\n",
    "\n",
    "    cat_col = [\"kmean_cluster\"]\n",
    "    cols = df_train.drop(columns=['Cover_Type', 'Wilderness_Area_Synth']).columns\n",
    "\n",
    "    preprocessor = ColumnTransformer([\n",
    "            (\"cat\", OneHotEncoder(handle_unknown=\"ignore\"), cat_col),\n",
    "            (\"others\", \"passthrough\", cols),\n",
    "        ])\n",
    "    \n",
    "    return make_pipeline(km_encoder, preprocessor, clf)"
   ]
  },
  {
   "cell_type": "code",
   "execution_count": null,
   "metadata": {},
   "outputs": [],
   "source": [
    "def IWCV_ovs_km(df_train=df_train, \n",
    "         predictor=pipe, \n",
    "         k_valid=10,\n",
    "         coeffs=coeffs,\n",
    "         ovs_strat={1: 30_000, 2: 30_000}):\n",
    "    \n",
    "    if \"Wilderness_Area_Synth\" in df_train.columns:\n",
    "        df_train = df_train.drop(columns=\"Wilderness_Area_Synth\")\n",
    "\n",
    "    # Define the oversampler\n",
    "    adasyn = ADASYN(sampling_strategy=ovs_strat) \n",
    "\n",
    "    # Separate features and target \n",
    "    X_train = df_train.drop('Cover_Type', axis=1)\n",
    "    y_train = df_train['Cover_Type']\n",
    "    \n",
    "    class_accuracies = np.zeros((k_valid, 7))\n",
    "    \n",
    "    for i in range(k_valid):\n",
    "        data_train, data_test, target_train, target_test = train_test_split(\n",
    "            X_train, y_train, test_size = 1 / k_valid\n",
    "        )\n",
    "        \n",
    "        # Oversampling\n",
    "        X_train_synth, y_train_synth = adasyn.fit_resample(data_train, target_train)\n",
    "        X_train_synth = pd.DataFrame(X_train_synth, columns=X_train.columns)\n",
    "        \n",
    "        predictor.fit(X_train_synth, y_train_synth)\n",
    "        y_pred = predictor.predict(data_test)\n",
    "\n",
    "        for label in range(1,8):\n",
    "            class_accuracies[i, label - 1] = accuracy_score(target_test[target_test == label], \n",
    "                                                        y_pred[target_test == label])\n",
    "        IMCV = np.mean(class_accuracies @ coeffs) / np.sum(coeffs)\n",
    "        \n",
    "    return IMCV, class_accuracies.mean(axis=0)"
   ]
  },
  {
   "cell_type": "code",
   "execution_count": null,
   "metadata": {},
   "outputs": [],
   "source": [
    "### très bizarre parce que varie énormément => excellents résultats ou bofs alors que mêmes paramètres\n",
    "# Faire un truc long en 20 - cross val et 3 fois par clusters sur des clusters allant de 3 à 7\n",
    "### So far on dirait que n_clusters = 7 donne le meilleur résultat mais tuner à la fin"
   ]
  },
  {
   "cell_type": "code",
   "execution_count": null,
   "metadata": {},
   "outputs": [
    {
     "name": "stdout",
     "output_type": "stream",
     "text": [
      "3 (0.8345399423561863, array([0.84882253, 0.79977842, 0.85926981, 0.9786671 , 0.88242925,\n",
      "       0.86635208, 0.9336357 ]))\n",
      "4 (0.8382094548710572, array([0.85103149, 0.8038529 , 0.87349019, 0.97339922, 0.88498326,\n",
      "       0.86922649, 0.93411541]))\n",
      "5 (0.8259548777699849, array([0.83459958, 0.79100115, 0.86031783, 0.98022758, 0.87694589,\n",
      "       0.87492816, 0.94199221]))\n",
      "6 (0.8256605234316455, array([0.83774458, 0.7857139 , 0.87296434, 0.97455323, 0.89697963,\n",
      "       0.85820505, 0.94403361]))\n",
      "7 (0.8406299332597281, array([0.85340261, 0.8082526 , 0.8536078 , 0.97417891, 0.88834775,\n",
      "       0.87670995, 0.94322887]))\n",
      "8 (0.8343907127838309, array([0.8422739 , 0.80129691, 0.867198  , 0.98046184, 0.89575921,\n",
      "       0.86753523, 0.9481118 ]))\n"
     ]
    }
   ],
   "source": [
    "# dico_km =  \n",
    "# 3 (0.8345399423561863, array([0.84882253, 0.79977842, 0.85926981, 0.9786671 , 0.88242925,\n",
    "#        0.86635208, 0.9336357 ]))\n",
    "# 4 (0.8382094548710572, array([0.85103149, 0.8038529 , 0.87349019, 0.97339922, 0.88498326,\n",
    "#        0.86922649, 0.93411541]))\n",
    "# 5 (0.8259548777699849, array([0.83459958, 0.79100115, 0.86031783, 0.98022758, 0.87694589,\n",
    "#        0.87492816, 0.94199221]))\n",
    "# 6 (0.8256605234316455, array([0.83774458, 0.7857139 , 0.87296434, 0.97455323, 0.89697963,\n",
    "#        0.85820505, 0.94403361]))\n",
    "# 7 (0.8406299332597281, array([0.85340261, 0.8082526 , 0.8536078 , 0.97417891, 0.88834775,\n",
    "#        0.87670995, 0.94322887]))\n",
    "# 8 (0.8343907127838309, array([0.8422739 , 0.80129691, 0.867198  , 0.98046184, 0.89575921,\n",
    "#        0.86753523, 0.9481118 ]))"
   ]
  },
  {
   "cell_type": "code",
   "execution_count": null,
   "metadata": {},
   "outputs": [],
   "source": []
  },
  {
   "cell_type": "markdown",
   "metadata": {},
   "source": [
    "# Stacking"
   ]
  },
  {
   "cell_type": "code",
   "execution_count": null,
   "metadata": {},
   "outputs": [],
   "source": [
    "from sklearn.calibration import LabelEncoder\n",
    "from xgboost import XGBClassifier\n",
    "\n",
    "data_train, data_test, target_train, target_test = train_test_split(\n",
    "    X_train, y_train, test_size = 0.2\n",
    ")\n",
    "\n",
    "le = LabelEncoder()\n",
    "target_train = le.fit_transform(target_train)\n",
    "model = XGBClassifier()\n",
    "model.fit(data_train, target_train)\n",
    "y_pred = model.predict(data_test)\n",
    "y_pred = le.inverse_transform(y_pred)"
   ]
  },
  {
   "cell_type": "code",
   "execution_count": null,
   "metadata": {},
   "outputs": [
    {
     "name": "stdout",
     "output_type": "stream",
     "text": [
      "              precision    recall  f1-score   support\n",
      "\n",
      "           0       0.79      0.80      0.79       427\n",
      "           1       0.79      0.71      0.75       431\n",
      "           2       0.89      0.88      0.89       433\n",
      "           3       0.96      0.96      0.96       429\n",
      "           4       0.90      0.94      0.92       424\n",
      "           5       0.89      0.91      0.90       430\n",
      "           6       0.94      0.97      0.96       450\n",
      "\n",
      "    accuracy                           0.88      3024\n",
      "   macro avg       0.88      0.88      0.88      3024\n",
      "weighted avg       0.88      0.88      0.88      3024\n",
      "\n"
     ]
    }
   ],
   "source": [
    "print(classification_report(target_test, y_pred)) # Globalement pareil que le RF"
   ]
  },
  {
   "cell_type": "code",
   "execution_count": null,
   "metadata": {},
   "outputs": [],
   "source": [
    "from sklearn.ensemble import StackingClassifier\n",
    "\n",
    "stacking_clf = {\n",
    "    estimators = [\n",
    "        \n",
    "    ]\n",
    "}"
   ]
  }
 ],
 "metadata": {
  "kernelspec": {
   "display_name": "base",
   "language": "python",
   "name": "python3"
  },
  "language_info": {
   "codemirror_mode": {
    "name": "ipython",
    "version": 3
   },
   "file_extension": ".py",
   "mimetype": "text/x-python",
   "name": "python",
   "nbconvert_exporter": "python",
   "pygments_lexer": "ipython3",
   "version": "3.11.4"
  }
 },
 "nbformat": 4,
 "nbformat_minor": 2
}
