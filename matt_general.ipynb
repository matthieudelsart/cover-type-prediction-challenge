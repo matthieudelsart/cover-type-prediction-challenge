{
 "cells": [
  {
   "cell_type": "code",
   "execution_count": 1,
   "metadata": {},
   "outputs": [],
   "source": [
    "import numpy as np\n",
    "import pandas as pd\n",
    "import matplotlib.pyplot as plt\n",
    "import seaborn as sns\n",
    "%matplotlib inline"
   ]
  },
  {
   "cell_type": "code",
   "execution_count": 2,
   "metadata": {},
   "outputs": [],
   "source": [
    "df_test = pd.read_csv(\"test-full.csv\")\n",
    "df_train = pd.read_csv(\"train.csv\")\n",
    "# pour avoir cover type au début\n",
    "df_train = df_train[[df_train.columns[-1]] + list(df_train.columns[0:-1])]"
   ]
  },
  {
   "cell_type": "code",
   "execution_count": 3,
   "metadata": {},
   "outputs": [
    {
     "data": {
      "text/plain": [
       "((15120, 56), (581012, 55))"
      ]
     },
     "execution_count": 3,
     "metadata": {},
     "output_type": "execute_result"
    }
   ],
   "source": [
    "df_train.shape, df_test.shape"
   ]
  },
  {
   "cell_type": "code",
   "execution_count": 4,
   "metadata": {},
   "outputs": [
    {
     "data": {
      "text/html": [
       "<div>\n",
       "<style scoped>\n",
       "    .dataframe tbody tr th:only-of-type {\n",
       "        vertical-align: middle;\n",
       "    }\n",
       "\n",
       "    .dataframe tbody tr th {\n",
       "        vertical-align: top;\n",
       "    }\n",
       "\n",
       "    .dataframe thead th {\n",
       "        text-align: right;\n",
       "    }\n",
       "</style>\n",
       "<table border=\"1\" class=\"dataframe\">\n",
       "  <thead>\n",
       "    <tr style=\"text-align: right;\">\n",
       "      <th></th>\n",
       "      <th>Id</th>\n",
       "      <th>Elevation</th>\n",
       "      <th>Aspect</th>\n",
       "      <th>Slope</th>\n",
       "      <th>Horizontal_Distance_To_Hydrology</th>\n",
       "      <th>Vertical_Distance_To_Hydrology</th>\n",
       "      <th>Horizontal_Distance_To_Roadways</th>\n",
       "      <th>Hillshade_9am</th>\n",
       "      <th>Hillshade_Noon</th>\n",
       "      <th>Hillshade_3pm</th>\n",
       "      <th>...</th>\n",
       "      <th>Soil_Type31</th>\n",
       "      <th>Soil_Type32</th>\n",
       "      <th>Soil_Type33</th>\n",
       "      <th>Soil_Type34</th>\n",
       "      <th>Soil_Type35</th>\n",
       "      <th>Soil_Type36</th>\n",
       "      <th>Soil_Type37</th>\n",
       "      <th>Soil_Type38</th>\n",
       "      <th>Soil_Type39</th>\n",
       "      <th>Soil_Type40</th>\n",
       "    </tr>\n",
       "  </thead>\n",
       "  <tbody>\n",
       "    <tr>\n",
       "      <th>0</th>\n",
       "      <td>1</td>\n",
       "      <td>2596</td>\n",
       "      <td>51</td>\n",
       "      <td>3</td>\n",
       "      <td>258</td>\n",
       "      <td>0</td>\n",
       "      <td>510</td>\n",
       "      <td>221</td>\n",
       "      <td>232</td>\n",
       "      <td>148</td>\n",
       "      <td>...</td>\n",
       "      <td>0</td>\n",
       "      <td>0</td>\n",
       "      <td>0</td>\n",
       "      <td>0</td>\n",
       "      <td>0</td>\n",
       "      <td>0</td>\n",
       "      <td>0</td>\n",
       "      <td>0</td>\n",
       "      <td>0</td>\n",
       "      <td>0</td>\n",
       "    </tr>\n",
       "    <tr>\n",
       "      <th>1</th>\n",
       "      <td>2</td>\n",
       "      <td>2590</td>\n",
       "      <td>56</td>\n",
       "      <td>2</td>\n",
       "      <td>212</td>\n",
       "      <td>-6</td>\n",
       "      <td>390</td>\n",
       "      <td>220</td>\n",
       "      <td>235</td>\n",
       "      <td>151</td>\n",
       "      <td>...</td>\n",
       "      <td>0</td>\n",
       "      <td>0</td>\n",
       "      <td>0</td>\n",
       "      <td>0</td>\n",
       "      <td>0</td>\n",
       "      <td>0</td>\n",
       "      <td>0</td>\n",
       "      <td>0</td>\n",
       "      <td>0</td>\n",
       "      <td>0</td>\n",
       "    </tr>\n",
       "    <tr>\n",
       "      <th>2</th>\n",
       "      <td>3</td>\n",
       "      <td>2804</td>\n",
       "      <td>139</td>\n",
       "      <td>9</td>\n",
       "      <td>268</td>\n",
       "      <td>65</td>\n",
       "      <td>3180</td>\n",
       "      <td>234</td>\n",
       "      <td>238</td>\n",
       "      <td>135</td>\n",
       "      <td>...</td>\n",
       "      <td>0</td>\n",
       "      <td>0</td>\n",
       "      <td>0</td>\n",
       "      <td>0</td>\n",
       "      <td>0</td>\n",
       "      <td>0</td>\n",
       "      <td>0</td>\n",
       "      <td>0</td>\n",
       "      <td>0</td>\n",
       "      <td>0</td>\n",
       "    </tr>\n",
       "    <tr>\n",
       "      <th>3</th>\n",
       "      <td>4</td>\n",
       "      <td>2785</td>\n",
       "      <td>155</td>\n",
       "      <td>18</td>\n",
       "      <td>242</td>\n",
       "      <td>118</td>\n",
       "      <td>3090</td>\n",
       "      <td>238</td>\n",
       "      <td>238</td>\n",
       "      <td>122</td>\n",
       "      <td>...</td>\n",
       "      <td>0</td>\n",
       "      <td>0</td>\n",
       "      <td>0</td>\n",
       "      <td>0</td>\n",
       "      <td>0</td>\n",
       "      <td>0</td>\n",
       "      <td>0</td>\n",
       "      <td>0</td>\n",
       "      <td>0</td>\n",
       "      <td>0</td>\n",
       "    </tr>\n",
       "    <tr>\n",
       "      <th>4</th>\n",
       "      <td>5</td>\n",
       "      <td>2595</td>\n",
       "      <td>45</td>\n",
       "      <td>2</td>\n",
       "      <td>153</td>\n",
       "      <td>-1</td>\n",
       "      <td>391</td>\n",
       "      <td>220</td>\n",
       "      <td>234</td>\n",
       "      <td>150</td>\n",
       "      <td>...</td>\n",
       "      <td>0</td>\n",
       "      <td>0</td>\n",
       "      <td>0</td>\n",
       "      <td>0</td>\n",
       "      <td>0</td>\n",
       "      <td>0</td>\n",
       "      <td>0</td>\n",
       "      <td>0</td>\n",
       "      <td>0</td>\n",
       "      <td>0</td>\n",
       "    </tr>\n",
       "  </tbody>\n",
       "</table>\n",
       "<p>5 rows × 55 columns</p>\n",
       "</div>"
      ],
      "text/plain": [
       "   Id  Elevation  Aspect  Slope  Horizontal_Distance_To_Hydrology  \\\n",
       "0   1       2596      51      3                               258   \n",
       "1   2       2590      56      2                               212   \n",
       "2   3       2804     139      9                               268   \n",
       "3   4       2785     155     18                               242   \n",
       "4   5       2595      45      2                               153   \n",
       "\n",
       "   Vertical_Distance_To_Hydrology  Horizontal_Distance_To_Roadways  \\\n",
       "0                               0                              510   \n",
       "1                              -6                              390   \n",
       "2                              65                             3180   \n",
       "3                             118                             3090   \n",
       "4                              -1                              391   \n",
       "\n",
       "   Hillshade_9am  Hillshade_Noon  Hillshade_3pm  ...  Soil_Type31  \\\n",
       "0            221             232            148  ...            0   \n",
       "1            220             235            151  ...            0   \n",
       "2            234             238            135  ...            0   \n",
       "3            238             238            122  ...            0   \n",
       "4            220             234            150  ...            0   \n",
       "\n",
       "   Soil_Type32  Soil_Type33  Soil_Type34  Soil_Type35  Soil_Type36  \\\n",
       "0            0            0            0            0            0   \n",
       "1            0            0            0            0            0   \n",
       "2            0            0            0            0            0   \n",
       "3            0            0            0            0            0   \n",
       "4            0            0            0            0            0   \n",
       "\n",
       "   Soil_Type37  Soil_Type38  Soil_Type39  Soil_Type40  \n",
       "0            0            0            0            0  \n",
       "1            0            0            0            0  \n",
       "2            0            0            0            0  \n",
       "3            0            0            0            0  \n",
       "4            0            0            0            0  \n",
       "\n",
       "[5 rows x 55 columns]"
      ]
     },
     "execution_count": 4,
     "metadata": {},
     "output_type": "execute_result"
    }
   ],
   "source": [
    "df_test.head()"
   ]
  },
  {
   "cell_type": "code",
   "execution_count": 5,
   "metadata": {},
   "outputs": [
    {
     "data": {
      "text/plain": [
       "1    2160\n",
       "2    2160\n",
       "3    2160\n",
       "4    2160\n",
       "5    2160\n",
       "6    2160\n",
       "7    2160\n",
       "Name: Cover_Type, dtype: int64"
      ]
     },
     "execution_count": 5,
     "metadata": {},
     "output_type": "execute_result"
    }
   ],
   "source": [
    "df_train[\"Cover_Type\"].value_counts()"
   ]
  },
  {
   "cell_type": "markdown",
   "metadata": {},
   "source": [
    "### Basis script"
   ]
  },
  {
   "cell_type": "code",
   "execution_count": 6,
   "metadata": {},
   "outputs": [],
   "source": [
    "from sklearn.ensemble import RandomForestClassifier\n",
    "\n",
    "# Separate features and target \n",
    "X_train = df_train.drop('Cover_Type', axis=1)\n",
    "y_train = df_train['Cover_Type']\n",
    "\n",
    "# Initialize and train a Random Forest classifier\n",
    "clf = RandomForestClassifier(n_estimators=100, random_state=42)\n",
    "clf.fit(X_train, y_train)\n",
    "\n",
    "# Creating a Test dataset\n",
    "X_test = df_test\n",
    "\n",
    "# Make predictions on the test dataset\n",
    "y_pred = clf.predict(X_test)\n",
    "\n",
    "# Saving predictions to a CSV file\n",
    "predictions_df = pd.DataFrame({'Cover_Type': y_pred})\n",
    "\n",
    "# Having it fit the desired format\n",
    "Id = [i for i in range (1, 581013)]\n",
    "predictions_df['Id'] = Id\n",
    "# predictions_df.to_csv('test_predictions.csv', index=False) # peut-être plus simple de directement mettre index = True\n"
   ]
  },
  {
   "cell_type": "code",
   "execution_count": 7,
   "metadata": {},
   "outputs": [
    {
     "data": {
      "text/plain": [
       "2    236112\n",
       "1    216326\n",
       "3     38178\n",
       "7     31667\n",
       "5     28425\n",
       "6     26278\n",
       "4      4026\n",
       "Name: Cover_Type, dtype: int64"
      ]
     },
     "execution_count": 7,
     "metadata": {},
     "output_type": "execute_result"
    }
   ],
   "source": [
    "predictions_df[\"Cover_Type\"].value_counts()"
   ]
  },
  {
   "cell_type": "markdown",
   "metadata": {},
   "source": [
    "### First train-test"
   ]
  },
  {
   "cell_type": "code",
   "execution_count": 8,
   "metadata": {},
   "outputs": [],
   "source": [
    "from sklearn.ensemble import RandomForestClassifier\n",
    "from sklearn.model_selection import train_test_split\n",
    "from sklearn.metrics import accuracy_score, classification_report\n",
    "\n",
    "# Si on met que la df en input\n",
    "def classif(df_train=df_train, clf=RandomForestClassifier(n_estimators=150, random_state=42)):\n",
    "    \n",
    "    if \"Wilderness_Area_Synth\" in df_train.columns:\n",
    "        df_train = df_train.drop(columns=\"Wilderness_Area_Synth\")\n",
    "\n",
    "    # Separate features and target \n",
    "    X_train = df_train.drop('Cover_Type', axis=1)\n",
    "    y_train = df_train['Cover_Type']\n",
    "\n",
    "    data_train, data_test, target_train, target_test = train_test_split(\n",
    "        X_train, y_train, test_size = 0.2\n",
    "    )\n",
    "\n",
    "    # Initialize and train a Random Forest classifier\n",
    "    clf.fit(data_train, target_train)\n",
    "\n",
    "    # Make predictions on the test dataset\n",
    "    y_pred = clf.predict(data_test)\n",
    "    \n",
    "    return target_test, y_pred\n",
    "\n",
    "# Si test & train déjà définis\n",
    "def RF_classif_train_test(data_train, target_train, data_test, target_test):\n",
    "\n",
    "    # Initialize and train a Random Forest classifier\n",
    "    clf = RandomForestClassifier(n_estimators=100, random_state=42)\n",
    "    clf.fit(data_train, target_train)\n",
    "\n",
    "    # Make predictions on the test dataset\n",
    "    y_pred = clf.predict(data_test)\n",
    "    \n",
    "    return target_test, y_pred"
   ]
  },
  {
   "cell_type": "code",
   "execution_count": 9,
   "metadata": {},
   "outputs": [
    {
     "data": {
      "text/plain": [
       "0.8882275132275133"
      ]
     },
     "execution_count": 9,
     "metadata": {},
     "output_type": "execute_result"
    }
   ],
   "source": [
    "y_true, y_pred = classif()\n",
    "accuracy_score(y_true, y_pred) # bien meilleur score que sur Kags"
   ]
  },
  {
   "cell_type": "code",
   "execution_count": 10,
   "metadata": {},
   "outputs": [
    {
     "name": "stdout",
     "output_type": "stream",
     "text": [
      "              precision    recall  f1-score   support\n",
      "\n",
      "           1       0.83      0.83      0.83       415\n",
      "           2       0.84      0.72      0.77       416\n",
      "           3       0.89      0.87      0.88       441\n",
      "           4       0.94      0.98      0.96       429\n",
      "           5       0.91      0.95      0.93       464\n",
      "           6       0.85      0.87      0.86       416\n",
      "           7       0.95      0.98      0.97       443\n",
      "\n",
      "    accuracy                           0.89      3024\n",
      "   macro avg       0.89      0.89      0.88      3024\n",
      "weighted avg       0.89      0.89      0.89      3024\n",
      "\n"
     ]
    }
   ],
   "source": [
    "print(classification_report(y_true, y_pred))\n",
    "\n",
    "# On prédit moins bien 1 et 2, ce qui est un problème pcq représentent une immense majorité du dataset final"
   ]
  },
  {
   "cell_type": "markdown",
   "metadata": {},
   "source": [
    "# Over/undersampling"
   ]
  },
  {
   "cell_type": "code",
   "execution_count": 11,
   "metadata": {},
   "outputs": [],
   "source": [
    "# on peut essayer d'undersampler wilderness area 4 \n",
    "# pcq à ce stade il semblerait que a été tiré uniformément dans les wilderness areas\n",
    "\n",
    "# ou alors oversampler tous les autres pour aboutir à des proportions similaires à celles d'origine\n",
    "\n",
    "# Ou alors oversampler directement des classes (ex 1 et 2 mais peut être problématique)"
   ]
  },
  {
   "cell_type": "markdown",
   "metadata": {},
   "source": [
    "### Working directly on the Cover Type"
   ]
  },
  {
   "cell_type": "code",
   "execution_count": 12,
   "metadata": {},
   "outputs": [
    {
     "data": {
      "text/plain": [
       "2    0.406381\n",
       "1    0.372326\n",
       "3    0.065709\n",
       "7    0.054503\n",
       "5    0.048923\n",
       "6    0.045228\n",
       "4    0.006929\n",
       "Name: Cover_Type, dtype: float64"
      ]
     },
     "execution_count": 12,
     "metadata": {},
     "output_type": "execute_result"
    }
   ],
   "source": [
    "from imblearn.over_sampling import ADASYN\n",
    "predictions_df[\"Cover_Type\"].value_counts() / len(predictions_df)"
   ]
  },
  {
   "cell_type": "code",
   "execution_count": 13,
   "metadata": {},
   "outputs": [
    {
     "data": {
      "text/plain": [
       "1    0.142857\n",
       "2    0.142857\n",
       "3    0.142857\n",
       "4    0.142857\n",
       "5    0.142857\n",
       "6    0.142857\n",
       "7    0.142857\n",
       "Name: Cover_Type, dtype: float64"
      ]
     },
     "execution_count": 13,
     "metadata": {},
     "output_type": "execute_result"
    }
   ],
   "source": [
    "df_train[\"Cover_Type\"].value_counts() / len(df_train)"
   ]
  },
  {
   "cell_type": "code",
   "execution_count": 14,
   "metadata": {},
   "outputs": [],
   "source": [
    "### OVERSAMPLING CLASS 2 AND 1\n",
    "\n",
    "ovs_strat = {1: 15_000, 2: 15_000}\n",
    "\n",
    "# Separating train and test\n",
    "X = df_train.drop('Cover_Type', axis=1)\n",
    "y = df_train['Cover_Type']\n",
    "X_train, X_test, y_train, y_test = train_test_split(\n",
    "    X, y, test_size=0.2\n",
    ")\n",
    "\n",
    "# Define the over-sampler\n",
    "adasyn = ADASYN(sampling_strategy=ovs_strat)\n",
    "\n",
    "# Oversampling\n",
    "X_train_synth, y_train_synth = adasyn.fit_resample(X_train, y_train)\n",
    "X_train_synth = pd.DataFrame(X_train_synth, columns=X_train.columns)"
   ]
  },
  {
   "cell_type": "code",
   "execution_count": 15,
   "metadata": {},
   "outputs": [
    {
     "data": {
      "text/plain": [
       "2    0.391288\n",
       "1    0.386949\n",
       "5    0.044699\n",
       "3    0.044415\n",
       "7    0.044311\n",
       "6    0.044182\n",
       "4    0.044156\n",
       "Name: Cover_Type, dtype: float64"
      ]
     },
     "execution_count": 15,
     "metadata": {},
     "output_type": "execute_result"
    }
   ],
   "source": [
    "y_train_synth.value_counts() / len(y_train_synth)"
   ]
  },
  {
   "cell_type": "code",
   "execution_count": 16,
   "metadata": {},
   "outputs": [
    {
     "name": "stdout",
     "output_type": "stream",
     "text": [
      "              precision    recall  f1-score   support\n",
      "\n",
      "           1       0.77      0.81      0.79       408\n",
      "           2       0.72      0.76      0.74       404\n",
      "           3       0.89      0.81      0.85       440\n",
      "           4       0.94      0.99      0.96       450\n",
      "           5       0.94      0.88      0.91       429\n",
      "           6       0.86      0.88      0.87       449\n",
      "           7       0.97      0.94      0.96       444\n",
      "\n",
      "    accuracy                           0.87      3024\n",
      "   macro avg       0.87      0.87      0.87      3024\n",
      "weighted avg       0.87      0.87      0.87      3024\n",
      "\n"
     ]
    }
   ],
   "source": [
    "y_true, y_pred = RF_classif_train_test(X_train_synth, y_train_synth, X_test, y_test)\n",
    "\n",
    "print(classification_report(y_true, y_pred))"
   ]
  },
  {
   "cell_type": "code",
   "execution_count": 17,
   "metadata": {},
   "outputs": [
    {
     "name": "stdout",
     "output_type": "stream",
     "text": [
      "              precision    recall  f1-score   support\n",
      "\n",
      "           1       0.81      0.81      0.81       464\n",
      "           2       0.79      0.75      0.77       421\n",
      "           3       0.89      0.83      0.86       425\n",
      "           4       0.93      0.98      0.96       430\n",
      "           5       0.90      0.95      0.93       399\n",
      "           6       0.88      0.89      0.89       424\n",
      "           7       0.96      0.97      0.96       461\n",
      "\n",
      "    accuracy                           0.88      3024\n",
      "   macro avg       0.88      0.88      0.88      3024\n",
      "weighted avg       0.88      0.88      0.88      3024\n",
      "\n"
     ]
    }
   ],
   "source": [
    "# Par rapport à avant, améliore le recall (moins de faux négatifs) mais diminue la précision (plus de faux positifs)\n",
    "\n",
    "y_true, y_pred = classif(df_train)\n",
    "\n",
    "print(classification_report(y_true, y_pred))"
   ]
  },
  {
   "cell_type": "markdown",
   "metadata": {},
   "source": [
    "### Trying"
   ]
  },
  {
   "cell_type": "code",
   "execution_count": 18,
   "metadata": {},
   "outputs": [
    {
     "name": "stderr",
     "output_type": "stream",
     "text": [
      "Exception in thread Thread-6 (_readerthread):\n",
      "Traceback (most recent call last):\n",
      "  File \"c:\\Users\\User\\anaconda3\\Lib\\threading.py\", line 1038, in _bootstrap_inner\n",
      "    self.run()\n",
      "  File \"c:\\Users\\User\\anaconda3\\Lib\\threading.py\", line 975, in run\n",
      "    self._target(*self._args, **self._kwargs)\n",
      "  File \"c:\\Users\\User\\anaconda3\\Lib\\subprocess.py\", line 1597, in _readerthread\n",
      "    buffer.append(fh.read())\n",
      "                  ^^^^^^^^^\n",
      "  File \"<frozen codecs>\", line 322, in decode\n",
      "UnicodeDecodeError: 'utf-8' codec can't decode byte 0xa0 in position 16: invalid start byte\n",
      "c:\\Users\\User\\anaconda3\\Lib\\site-packages\\joblib\\externals\\loky\\backend\\context.py:136: UserWarning: Could not find the number of physical cores for the following reason:\n",
      "found 0 physical cores < 1\n",
      "Returning the number of logical cores instead. You can silence this warning by setting LOKY_MAX_CPU_COUNT to the number of cores you want to use.\n",
      "  warnings.warn(\n",
      "  File \"c:\\Users\\User\\anaconda3\\Lib\\site-packages\\joblib\\externals\\loky\\backend\\context.py\", line 282, in _count_physical_cores\n",
      "    raise ValueError(f\"found {cpu_count_physical} physical cores < 1\")\n"
     ]
    }
   ],
   "source": [
    "### TEST\n",
    "from utils import clean_predictor\n",
    "\n",
    "# Initialize and train a Random Forest classifier\n",
    "clf = RandomForestClassifier(n_estimators=150)\n",
    "clf.fit(X_train_synth, y_train_synth)\n",
    "\n",
    "# Make predictions on the test dataset\n",
    "y_pred = clf.predict(df_test)\n",
    "\n",
    "# Saving predictions to a CSV file\n",
    "predictions_df = clean_predictor(y_pred)\n",
    "\n",
    "# Having it fit the desired format\n",
    "predictions_df.to_csv('test_predictions.csv', index=False) # peut-être plus simple de directement mettre index = True"
   ]
  },
  {
   "cell_type": "code",
   "execution_count": 19,
   "metadata": {},
   "outputs": [],
   "source": [
    "## on atteint 0.82 => Amélioration légère\n",
    "\n",
    "# Essayer de le faire de manière plus méthodique, en augmentant encore plus et notamment le WA1,\n",
    "# et en tunant : on dirait que en fonction du fit du ADASYN on a des résultats assez différents"
   ]
  },
  {
   "cell_type": "code",
   "execution_count": 20,
   "metadata": {},
   "outputs": [
    {
     "data": {
      "text/plain": [
       "2    253208\n",
       "1    218537\n",
       "3     35807\n",
       "7     26433\n",
       "6     23675\n",
       "5     19219\n",
       "4      4133\n",
       "Name: Cover_Type, dtype: int64"
      ]
     },
     "execution_count": 20,
     "metadata": {},
     "output_type": "execute_result"
    }
   ],
   "source": [
    "predictions_df[\"Cover_Type\"].value_counts()"
   ]
  },
  {
   "cell_type": "code",
   "execution_count": 21,
   "metadata": {},
   "outputs": [],
   "source": [
    "# On remarque que on a sensiblement plus de classe 2 prédite ici que à la base"
   ]
  },
  {
   "cell_type": "markdown",
   "metadata": {},
   "source": [
    "## kmeans + oversampling"
   ]
  },
  {
   "cell_type": "code",
   "execution_count": 23,
   "metadata": {},
   "outputs": [],
   "source": [
    "from sklearn.cluster import KMeans\n",
    "from sklearn.preprocessing import OneHotEncoder\n",
    "from sklearn.compose import ColumnTransformer\n",
    "from sklearn.pipeline import make_pipeline\n",
    "from utils import clean_predictor\n",
    "\n",
    "\n",
    "### 1. OVERSAMPLING CLASS 2 AND 1\n",
    "ovs_strat = {1: 30_000, 2: 30_000}\n",
    "\n",
    "# Separating train \n",
    "X_train = df_train.drop(columns=['Cover_Type'], axis=1)\n",
    "y_train = df_train['Cover_Type']\n",
    "\n",
    "# Oversampling\n",
    "adasyn = ADASYN(sampling_strategy=ovs_strat)\n",
    "X_train_synth, y_train_synth = adasyn.fit_resample(X_train, y_train)\n",
    "X_train_synth = pd.DataFrame(X_train_synth, columns=X_train.columns)\n",
    "\n",
    "### 2. KMEANS\n",
    "df_train_ns = df_train.iloc[:,:16]\n",
    "df_test_ns = df_test.iloc[:,:15]\n",
    "\n",
    "km_test = KMeans(n_clusters=3, n_init=10, init=\"k-means++\")\n",
    "km_test.fit_predict(df_test_ns)\n",
    "df_test[\"kmean_cluster\"] = km_test.labels_\n",
    "X_train_synth[\"kmean_cluster\"] = km_test.predict(X_train_synth.iloc[:,:15])\n",
    "\n",
    "### 3. GENERATING\n",
    "cat_col = [\"kmean_cluster\"]\n",
    "cols = X_train_synth.drop(columns=['kmean_cluster']).columns\n",
    "\n",
    "preprocessor = ColumnTransformer([\n",
    "        (\"cat\", OneHotEncoder(handle_unknown=\"ignore\"), cat_col),\n",
    "        (\"others\", \"passthrough\", cols),\n",
    "    ])\n",
    "clf = RandomForestClassifier(n_estimators=150)\n",
    "pipe = make_pipeline(preprocessor, clf)\n",
    "\n",
    "pipe.fit(X_train_synth, y_train_synth)\n",
    "y_pred = pipe.predict(df_test)\n",
    "predictions_df = clean_predictor(y_pred)\n",
    "\n",
    "# Having it fit the desired format\n",
    "# predictions_df.to_csv('test_predictions.csv', index=False) "
   ]
  },
  {
   "cell_type": "markdown",
   "metadata": {},
   "source": [
    "# Building a solid cross validation metric"
   ]
  },
  {
   "cell_type": "markdown",
   "metadata": {},
   "source": [
    "Idée : appliquer la \"importance weighted cross validation\" du paper.\n",
    "\n",
    "$$\\hat{R}^{(n)}_{kIWCV} = \\frac{1}{k}\\sum_{j=1}^{k} \\frac{1}{|T_j|} \\sum_{(x_i, y_i) \\in T_j} \\frac{p_{test}(x_i)}{p_{train}(x_i)} \\ell(x_i, y_i, \\hat{y_i})$$\n",
    "\n",
    "Question : comment estimer $\\frac{p_{test}(x_i)}{p_{train}(x_i)}$ pour tout $x_i$ du train set?\n"
   ]
  },
  {
   "cell_type": "markdown",
   "metadata": {},
   "source": [
    "Question : est-ce que a samplé de manière uniforme sur les classes ? Si oui, on peut juste reweighter sur les proportions des classes. Comment on peut savoir ? On peut nous aussi ressampler au hasard pour avoir des classes uniformes et voir si semble correspondre. \n",
    "\n",
    "Note ici notre loss est la l1 loss = 1 - accuracy donc on peut échanger la loss avec l'accuracy"
   ]
  },
  {
   "cell_type": "code",
   "execution_count": 24,
   "metadata": {},
   "outputs": [],
   "source": [
    "### Trying to get the same data the train from the test\n",
    "class_size = 2160\n",
    "df_copy = pd.DataFrame()\n",
    "\n",
    "for label in range(1,8):\n",
    "    class_data = df_train[df_train['Cover_Type'] == label]\n",
    "    sampled_data = class_data.sample(n=class_size, replace=False, random_state=1000)\n",
    "    df_copy = pd.concat([df_copy, sampled_data])"
   ]
  },
  {
   "cell_type": "code",
   "execution_count": 25,
   "metadata": {},
   "outputs": [
    {
     "data": {
      "image/png": "[encoded data removed]",
      "text/plain": [
       "<Figure size 1200x300 with 2 Axes>"
      ]
     },
     "metadata": {},
     "output_type": "display_data"
    }
   ],
   "source": [
    "fig, axs = plt.subplots(1, 2, figsize=(12, 3))\n",
    "axs[0].hist([df_train[\"Id\"], df_copy[\"Id\"]], bins=100)\n",
    "axs[0].set_title(f'With 100 bins - Perfect match')\n",
    "axs[1].hist([df_train[\"Id\"], df_copy[\"Id\"]], bins=range(0, 600_000, 1000))\n",
    "axs[1].set_title(f'With 1000 bins - slight glitch in first indexes')\n",
    "plt.show()"
   ]
  },
  {
   "cell_type": "markdown",
   "metadata": {},
   "source": [
    "Correspond globalement.\n",
    "\n",
    "On peut donc faire $\\frac{p_{test}(x_i)}{p_{train}(x_i)} = \\frac{p_{train}(y_i|x_i) p_{test}(y_i) p_{test}(x_i|y_i)}{p_{test}(y_i|x_i) p_{train}(y_i) p_{train}(x_i|y_i)}$\n",
    "\n",
    "Puis on annule $\\frac{p_{train}(y_i|x_i)}{p_{test}(y_i|x_i)}$ par assumption (label shift) et $\\frac{p_{train}(x_i|y_i)}{p_{test}(x_i|y_i)}$ par ce qu'on vient de voir (au sein d'une classe donnée, les X ont la même distribution)\n",
    "\n",
    "Il reste $\\frac{p_{test}(x_i)}{p_{train}(x_i)} = \\frac{p_{test}(y_i)}{p_{train}(y_i)}$, que l'on peut estimer directement avec les proportions de chaque classe dans le train et indirectement avec les proportions prédites dans le train (c'est une approximation mais ça fera l'affaire"
   ]
  },
  {
   "cell_type": "code",
   "execution_count": 26,
   "metadata": {},
   "outputs": [],
   "source": [
    "coeffs = (predictions_df[\"Cover_Type\"].value_counts() / len(predictions_df) / df_train[\"Cover_Type\"].value_counts() * len(df_train)).round(2)\n",
    "coeffs = np.array([2.63, 3.06, 0.43, 0.05, 0.24, 0.27, 0.32])"
   ]
  },
  {
   "cell_type": "code",
   "execution_count": 27,
   "metadata": {},
   "outputs": [],
   "source": [
    "def IWCV(df_train=df_train, \n",
    "         predictor=RandomForestClassifier(n_estimators=100, random_state=42), \n",
    "         k_valid=10,\n",
    "         coeffs=coeffs):\n",
    "    \n",
    "    if \"Wilderness_Area_Synth\" in df_train.columns:\n",
    "        df_train = df_train.drop(columns=\"Wilderness_Area_Synth\")\n",
    "        \n",
    "    # Separate features and target \n",
    "    X_train = df_train.drop('Cover_Type', axis=1)\n",
    "    y_train = df_train['Cover_Type']\n",
    "    \n",
    "    class_accuracies = np.zeros((k_valid, 7))\n",
    "    \n",
    "    for i in range(k_valid):\n",
    "        data_train, data_test, target_train, target_test = train_test_split(\n",
    "            X_train, y_train, test_size = 1 / k_valid\n",
    "        )\n",
    "        predictor.fit(data_train, target_train)\n",
    "        y_pred = predictor.predict(data_test)\n",
    "\n",
    "        for label in range(1,8):\n",
    "            class_accuracies[i, label - 1] = accuracy_score(target_test[target_test == label], \n",
    "                                                        y_pred[target_test == label])\n",
    "        IMCV = np.mean(class_accuracies @ coeffs) / np.sum(coeffs)\n",
    "        \n",
    "    return IMCV, class_accuracies.mean(axis=0)"
   ]
  },
  {
   "cell_type": "code",
   "execution_count": 28,
   "metadata": {},
   "outputs": [
    {
     "data": {
      "text/plain": [
       "(0.7910823889207997,\n",
       " array([0.80953825, 0.72115609, 0.85978142, 0.98255647, 0.95580071,\n",
       "        0.88924534, 0.97947262]))"
      ]
     },
     "execution_count": 28,
     "metadata": {},
     "output_type": "execute_result"
    }
   ],
   "source": [
    "IWCV()"
   ]
  },
  {
   "cell_type": "markdown",
   "metadata": {},
   "source": [
    "### Combining IWCV and oversampler"
   ]
  },
  {
   "cell_type": "code",
   "execution_count": 29,
   "metadata": {},
   "outputs": [],
   "source": [
    "def IWCV_oversample(df_train=df_train, \n",
    "         predictor=RandomForestClassifier(n_estimators=100, random_state=42), \n",
    "         k_valid=10,\n",
    "         coeffs=coeffs) :\n",
    "    \n",
    "    ovs_strat = {1: 30_000, 2: 30_000}\n",
    "    if \"Wilderness_Area_Synth\" in df_train.columns:\n",
    "        df_train = df_train.drop(columns=\"Wilderness_Area_Synth\")\n",
    "\n",
    "    # Define the oversampler\n",
    "    adasyn = ADASYN(sampling_strategy=ovs_strat) ## Random state = 4 ou 1 sont les meilleurs so far à 0.8297 en CV (mais fixer seed aussi en cross_val...)\n",
    "\n",
    "    # Separate features and target \n",
    "    X_train = df_train.drop('Cover_Type', axis=1)\n",
    "    y_train = df_train['Cover_Type']\n",
    "    \n",
    "    class_accuracies = np.zeros((k_valid, 7))\n",
    "    \n",
    "    for i in range(k_valid):\n",
    "        data_train, data_test, target_train, target_test = train_test_split(\n",
    "            X_train, y_train, test_size = 1 / k_valid\n",
    "        )\n",
    "        \n",
    "        # Oversampling\n",
    "        X_train_synth, y_train_synth = adasyn.fit_resample(data_train, target_train)\n",
    "        X_train_synth = pd.DataFrame(X_train_synth, columns=X_train.columns)\n",
    "        \n",
    "        predictor.fit(X_train_synth, y_train_synth)\n",
    "        y_pred = predictor.predict(data_test)\n",
    "\n",
    "        for label in range(1,8):\n",
    "            class_accuracies[i, label - 1] = accuracy_score(target_test[target_test == label], \n",
    "                                                        y_pred[target_test == label])\n",
    "        IMCV = np.mean(class_accuracies @ coeffs) / np.sum(coeffs)\n",
    "        \n",
    "    return IMCV, class_accuracies.mean(axis=0)"
   ]
  },
  {
   "cell_type": "markdown",
   "metadata": {},
   "source": [
    "### Oversampling + kmeans"
   ]
  },
  {
   "cell_type": "code",
   "execution_count": 31,
   "metadata": {},
   "outputs": [],
   "source": [
    "### Setting pipe\n",
    "from sklearn.preprocessing import FunctionTransformer\n",
    "\n",
    "def pipe_setter(n_clusters=3, clf=RandomForestClassifier(n_estimators=100, random_state=42)):\n",
    "    # Initializing kmeans\n",
    "    km_test = KMeans(n_clusters=n_clusters, n_init=10, init=\"k-means++\")\n",
    "    km_test.fit_predict(df_test.loc[:, \"Id\":\"Wilderness_Area4\"])\n",
    "\n",
    "    # Setting pipe\n",
    "    def _enocode_kmeans(X, kmeans=km_test):\n",
    "        X = X.copy()\n",
    "        X[\"kmean_cluster\"] = kmeans.predict(X)\n",
    "        return X\n",
    "    km_encoder = FunctionTransformer(_enocode_kmeans)\n",
    "\n",
    "    cat_col = [\"kmean_cluster\"]\n",
    "    cols = df_train.drop(columns=['Cover_Type', 'Wilderness_Area_Synth']).columns\n",
    "\n",
    "    preprocessor = ColumnTransformer([\n",
    "            (\"cat\", OneHotEncoder(handle_unknown=\"ignore\"), cat_col),\n",
    "            (\"others\", \"passthrough\", cols),\n",
    "        ])\n",
    "    \n",
    "    return make_pipeline(km_encoder, preprocessor, clf)"
   ]
  },
  {
   "cell_type": "code",
   "execution_count": 32,
   "metadata": {},
   "outputs": [],
   "source": [
    "def IWCV_ovs_km(df_train=df_train, \n",
    "         predictor=pipe_setter(), \n",
    "         k_valid=10,\n",
    "         coeffs=coeffs,\n",
    "         ovs_strat={1: 30_000, 2: 30_000}):\n",
    "    \n",
    "    if \"Wilderness_Area_Synth\" in df_train.columns:\n",
    "        df_train = df_train.drop(columns=\"Wilderness_Area_Synth\")\n",
    "\n",
    "    # Define the oversampler\n",
    "    adasyn = ADASYN(sampling_strategy=ovs_strat) \n",
    "\n",
    "    # Separate features and target \n",
    "    X_train = df_train.drop('Cover_Type', axis=1)\n",
    "    y_train = df_train['Cover_Type']\n",
    "    \n",
    "    class_accuracies = np.zeros((k_valid, 7))\n",
    "    \n",
    "    for i in range(k_valid):\n",
    "        data_train, data_test, target_train, target_test = train_test_split(\n",
    "            X_train, y_train, test_size = 1 / k_valid\n",
    "        )\n",
    "        \n",
    "        # Oversampling\n",
    "        X_train_synth, y_train_synth = adasyn.fit_resample(data_train, target_train)\n",
    "        X_train_synth = pd.DataFrame(X_train_synth, columns=X_train.columns)\n",
    "        \n",
    "        predictor.fit(X_train_synth, y_train_synth)\n",
    "        y_pred = predictor.predict(data_test)\n",
    "\n",
    "        for label in range(1,8):\n",
    "            class_accuracies[i, label - 1] = accuracy_score(target_test[target_test == label], \n",
    "                                                        y_pred[target_test == label])\n",
    "        IMCV = np.mean(class_accuracies @ coeffs) / np.sum(coeffs)\n",
    "        \n",
    "    return IMCV, class_accuracies.mean(axis=0)"
   ]
  },
  {
   "cell_type": "code",
   "execution_count": 33,
   "metadata": {},
   "outputs": [],
   "source": [
    "### très bizarre parce que varie énormément => excellents résultats ou bofs alors que mêmes paramètres\n",
    "# Faire un truc long en 20 - cross val et 3 fois par clusters sur des clusters allant de 3 à 7\n",
    "### So far on dirait que n_clusters = 7 donne le meilleur résultat mais tuner à la fin"
   ]
  },
  {
   "cell_type": "code",
   "execution_count": 34,
   "metadata": {},
   "outputs": [],
   "source": [
    "# dico_km =  \n",
    "# 3 (0.8345399423561863, array([0.84882253, 0.79977842, 0.85926981, 0.9786671 , 0.88242925,\n",
    "#        0.86635208, 0.9336357 ]))\n",
    "# 4 (0.8382094548710572, array([0.85103149, 0.8038529 , 0.87349019, 0.97339922, 0.88498326,\n",
    "#        0.86922649, 0.93411541]))\n",
    "# 5 (0.8259548777699849, array([0.83459958, 0.79100115, 0.86031783, 0.98022758, 0.87694589,\n",
    "#        0.87492816, 0.94199221]))\n",
    "# 6 (0.8256605234316455, array([0.83774458, 0.7857139 , 0.87296434, 0.97455323, 0.89697963,\n",
    "#        0.85820505, 0.94403361]))\n",
    "# 7 (0.8406299332597281, array([0.85340261, 0.8082526 , 0.8536078 , 0.97417891, 0.88834775,\n",
    "#        0.87670995, 0.94322887]))\n",
    "# 8 (0.8343907127838309, array([0.8422739 , 0.80129691, 0.867198  , 0.98046184, 0.89575921,\n",
    "#        0.86753523, 0.9481118 ]))"
   ]
  },
  {
   "cell_type": "code",
   "execution_count": null,
   "metadata": {},
   "outputs": [],
   "source": [
    "IWCV_ovs_km()"
   ]
  },
  {
   "cell_type": "markdown",
   "metadata": {},
   "source": [
    "# Stacking"
   ]
  },
  {
   "cell_type": "markdown",
   "metadata": {},
   "source": [
    "Quels algos utiliser?"
   ]
  },
  {
   "cell_type": "code",
   "execution_count": 35,
   "metadata": {},
   "outputs": [
    {
     "name": "stdout",
     "output_type": "stream",
     "text": [
      "              precision    recall  f1-score   support\n",
      "\n",
      "           1       0.82      0.80      0.81       451\n",
      "           2       0.81      0.73      0.77       449\n",
      "           3       0.90      0.88      0.89       420\n",
      "           4       0.96      0.98      0.97       464\n",
      "           5       0.89      0.96      0.93       416\n",
      "           6       0.88      0.91      0.89       407\n",
      "           7       0.96      0.98      0.97       417\n",
      "\n",
      "    accuracy                           0.89      3024\n",
      "   macro avg       0.89      0.89      0.89      3024\n",
      "weighted avg       0.89      0.89      0.89      3024\n",
      "\n"
     ]
    }
   ],
   "source": [
    "from sklearn.calibration import LabelEncoder\n",
    "from xgboost import XGBClassifier\n",
    "\n",
    "data_train, data_test, target_train, target_test = train_test_split(\n",
    "    X_train, y_train, test_size = 0.2\n",
    ")\n",
    "\n",
    "le = LabelEncoder()\n",
    "target_train = le.fit_transform(target_train)\n",
    "model = XGBClassifier()\n",
    "model.fit(data_train, target_train)\n",
    "y_pred = model.predict(data_test)\n",
    "y_pred = le.inverse_transform(y_pred)\n",
    "\n",
    "print(classification_report(target_test, y_pred)) # Globalement pareil que le RF"
   ]
  },
  {
   "cell_type": "code",
   "execution_count": 36,
   "metadata": {},
   "outputs": [
    {
     "name": "stdout",
     "output_type": "stream",
     "text": [
      "              precision    recall  f1-score   support\n",
      "\n",
      "           1       0.46      0.73      0.57       424\n",
      "           2       0.25      0.12      0.17       408\n",
      "           3       0.58      0.37      0.45       446\n",
      "           4       0.51      0.93      0.66       428\n",
      "           5       0.62      0.58      0.60       452\n",
      "           6       0.54      0.35      0.42       439\n",
      "           7       0.80      0.73      0.76       427\n",
      "\n",
      "    accuracy                           0.54      3024\n",
      "   macro avg       0.54      0.54      0.52      3024\n",
      "weighted avg       0.54      0.54      0.52      3024\n",
      "\n"
     ]
    }
   ],
   "source": [
    "from sklearn.ensemble import AdaBoostClassifier\n",
    "y_true, y_pred = classif(clf=AdaBoostClassifier(algorithm='SAMME'))\n",
    "\n",
    "print(classification_report(y_true, y_pred))"
   ]
  },
  {
   "cell_type": "code",
   "execution_count": 37,
   "metadata": {},
   "outputs": [
    {
     "name": "stdout",
     "output_type": "stream",
     "text": [
      "              precision    recall  f1-score   support\n",
      "\n",
      "           1       0.77      0.73      0.75       451\n",
      "           2       0.73      0.63      0.68       434\n",
      "           3       0.78      0.81      0.80       415\n",
      "           4       0.94      0.95      0.94       443\n",
      "           5       0.82      0.89      0.85       414\n",
      "           6       0.80      0.78      0.79       418\n",
      "           7       0.88      0.96      0.92       449\n",
      "\n",
      "    accuracy                           0.82      3024\n",
      "   macro avg       0.82      0.82      0.82      3024\n",
      "weighted avg       0.82      0.82      0.82      3024\n",
      "\n"
     ]
    }
   ],
   "source": [
    "from sklearn.ensemble import GradientBoostingClassifier\n",
    "\n",
    "y_true, y_pred = classif(clf=GradientBoostingClassifier())\n",
    "\n",
    "print(classification_report(y_true, y_pred))"
   ]
  },
  {
   "cell_type": "code",
   "execution_count": 38,
   "metadata": {},
   "outputs": [
    {
     "name": "stdout",
     "output_type": "stream",
     "text": [
      "              precision    recall  f1-score   support\n",
      "\n",
      "           1       0.71      0.68      0.70       454\n",
      "           2       0.67      0.67      0.67       454\n",
      "           3       0.84      0.79      0.81       448\n",
      "           4       0.93      0.95      0.94       437\n",
      "           5       0.86      0.88      0.87       401\n",
      "           6       0.78      0.81      0.80       405\n",
      "           7       0.91      0.94      0.92       425\n",
      "\n",
      "    accuracy                           0.81      3024\n",
      "   macro avg       0.81      0.82      0.81      3024\n",
      "weighted avg       0.81      0.81      0.81      3024\n",
      "\n"
     ]
    }
   ],
   "source": [
    "from sklearn.tree import DecisionTreeClassifier\n",
    "\n",
    "y_true, y_pred = classif(clf=DecisionTreeClassifier())\n",
    "\n",
    "print(classification_report(y_true, y_pred))"
   ]
  },
  {
   "cell_type": "code",
   "execution_count": 39,
   "metadata": {},
   "outputs": [
    {
     "name": "stdout",
     "output_type": "stream",
     "text": [
      "              precision    recall  f1-score   support\n",
      "\n",
      "           1       0.57      0.01      0.02       436\n",
      "           2       0.51      0.41      0.46       426\n",
      "           3       0.30      0.42      0.35       426\n",
      "           4       0.54      0.77      0.63       422\n",
      "           5       0.00      0.00      0.00       431\n",
      "           6       0.28      0.41      0.34       438\n",
      "           7       0.37      0.70      0.49       445\n",
      "\n",
      "    accuracy                           0.39      3024\n",
      "   macro avg       0.37      0.39      0.33      3024\n",
      "weighted avg       0.37      0.39      0.32      3024\n",
      "\n"
     ]
    },
    {
     "name": "stderr",
     "output_type": "stream",
     "text": [
      "c:\\Users\\User\\anaconda3\\Lib\\site-packages\\sklearn\\metrics\\_classification.py:1497: UndefinedMetricWarning: Precision is ill-defined and being set to 0.0 in labels with no predicted samples. Use `zero_division` parameter to control this behavior.\n",
      "  _warn_prf(average, modifier, f\"{metric.capitalize()} is\", len(result))\n",
      "c:\\Users\\User\\anaconda3\\Lib\\site-packages\\sklearn\\metrics\\_classification.py:1497: UndefinedMetricWarning: Precision is ill-defined and being set to 0.0 in labels with no predicted samples. Use `zero_division` parameter to control this behavior.\n",
      "  _warn_prf(average, modifier, f\"{metric.capitalize()} is\", len(result))\n",
      "c:\\Users\\User\\anaconda3\\Lib\\site-packages\\sklearn\\metrics\\_classification.py:1497: UndefinedMetricWarning: Precision is ill-defined and being set to 0.0 in labels with no predicted samples. Use `zero_division` parameter to control this behavior.\n",
      "  _warn_prf(average, modifier, f\"{metric.capitalize()} is\", len(result))\n"
     ]
    }
   ],
   "source": [
    "from sklearn.svm import SVC\n",
    "\n",
    "y_true, y_pred = classif(clf=SVC(kernel='rbf'))\n",
    "\n",
    "print(classification_report(y_true, y_pred))"
   ]
  },
  {
   "cell_type": "code",
   "execution_count": 80,
   "metadata": {},
   "outputs": [
    {
     "name": "stdout",
     "output_type": "stream",
     "text": [
      "              precision    recall  f1-score   support\n",
      "\n",
      "           1       0.76      0.67      0.71       409\n",
      "           2       0.74      0.67      0.70       466\n",
      "           3       0.74      0.72      0.73       431\n",
      "           4       0.86      0.92      0.89       431\n",
      "           5       0.85      0.88      0.86       442\n",
      "           6       0.74      0.80      0.77       410\n",
      "           7       0.89      0.94      0.91       435\n",
      "\n",
      "    accuracy                           0.80      3024\n",
      "   macro avg       0.80      0.80      0.80      3024\n",
      "weighted avg       0.80      0.80      0.80      3024\n",
      "\n",
      "              precision    recall  f1-score   support\n",
      "\n",
      "           1       0.66      0.60      0.63       407\n",
      "           2       0.67      0.55      0.61       431\n",
      "           3       0.69      0.68      0.68       462\n",
      "           4       0.88      0.90      0.89       440\n",
      "           5       0.80      0.87      0.83       433\n",
      "           6       0.70      0.74      0.72       432\n",
      "           7       0.85      0.94      0.89       419\n",
      "\n",
      "    accuracy                           0.75      3024\n",
      "   macro avg       0.75      0.75      0.75      3024\n",
      "weighted avg       0.75      0.75      0.75      3024\n",
      "\n"
     ]
    }
   ],
   "source": [
    "from sklearn.neighbors import KNeighborsClassifier\n",
    "\n",
    "y_true, y_pred = classif(clf=KNeighborsClassifier(1))\n",
    "print(classification_report(y_true, y_pred))\n",
    "\n",
    "y_true, y_pred = classif(clf=KNeighborsClassifier(5))\n",
    "print(classification_report(y_true, y_pred))"
   ]
  },
  {
   "cell_type": "code",
   "execution_count": 41,
   "metadata": {},
   "outputs": [
    {
     "name": "stdout",
     "output_type": "stream",
     "text": [
      "              precision    recall  f1-score   support\n",
      "\n",
      "           1       0.29      0.08      0.12       439\n",
      "           2       0.80      0.02      0.04       434\n",
      "           3       0.38      0.01      0.02       450\n",
      "           4       0.91      0.63      0.75       407\n",
      "           5       0.57      0.18      0.27       395\n",
      "           6       0.35      0.66      0.46       464\n",
      "           7       0.26      0.97      0.41       435\n",
      "\n",
      "    accuracy                           0.36      3024\n",
      "   macro avg       0.51      0.36      0.30      3024\n",
      "weighted avg       0.50      0.36      0.29      3024\n",
      "\n"
     ]
    }
   ],
   "source": [
    "from sklearn.neural_network import MLPClassifier\n",
    "\n",
    "y_true, y_pred = classif(clf=MLPClassifier())\n",
    "print(classification_report(y_true, y_pred))"
   ]
  },
  {
   "cell_type": "code",
   "execution_count": 42,
   "metadata": {},
   "outputs": [
    {
     "name": "stdout",
     "output_type": "stream",
     "text": [
      "              precision    recall  f1-score   support\n",
      "\n",
      "           1       0.55      0.56      0.55       428\n",
      "           2       0.48      0.37      0.42       469\n",
      "           3       0.61      0.47      0.53       452\n",
      "           4       0.80      0.87      0.83       406\n",
      "           5       0.64      0.70      0.67       454\n",
      "           6       0.52      0.60      0.56       407\n",
      "           7       0.75      0.83      0.79       408\n",
      "\n",
      "    accuracy                           0.62      3024\n",
      "   macro avg       0.62      0.63      0.62      3024\n",
      "weighted avg       0.62      0.62      0.62      3024\n",
      "\n"
     ]
    }
   ],
   "source": [
    "from sklearn.naive_bayes import GaussianNB\n",
    "\n",
    "y_true, y_pred = classif(clf=GaussianNB())\n",
    "print(classification_report(y_true, y_pred))"
   ]
  },
  {
   "cell_type": "code",
   "execution_count": 55,
   "metadata": {},
   "outputs": [
    {
     "name": "stdout",
     "output_type": "stream",
     "text": [
      "              precision    recall  f1-score   support\n",
      "\n",
      "           1       0.81      0.83      0.82       417\n",
      "           2       0.84      0.75      0.79       469\n",
      "           3       0.87      0.88      0.88       416\n",
      "           4       0.93      0.98      0.96       425\n",
      "           5       0.91      0.93      0.92       437\n",
      "           6       0.87      0.87      0.87       408\n",
      "           7       0.95      0.98      0.97       452\n",
      "\n",
      "    accuracy                           0.89      3024\n",
      "   macro avg       0.88      0.89      0.89      3024\n",
      "weighted avg       0.89      0.89      0.89      3024\n",
      "\n"
     ]
    }
   ],
   "source": [
    "from sklearn.ensemble import ExtraTreesClassifier\n",
    "\n",
    "y_true, y_pred = classif(clf=ExtraTreesClassifier())\n",
    "print(classification_report(y_true, y_pred))"
   ]
  },
  {
   "cell_type": "code",
   "execution_count": 52,
   "metadata": {},
   "outputs": [
    {
     "name": "stdout",
     "output_type": "stream",
     "text": [
      "[LightGBM] [Info] Auto-choosing col-wise multi-threading, the overhead of testing was 0.000825 seconds.\n",
      "You can set `force_col_wise=true` to remove the overhead.\n",
      "[LightGBM] [Info] Total Bins 2418\n",
      "[LightGBM] [Info] Number of data points in the train set: 12096, number of used features: 45\n",
      "[LightGBM] [Info] Start training from score -1.961071\n",
      "[LightGBM] [Info] Start training from score -1.943021\n",
      "[LightGBM] [Info] Start training from score -1.941867\n",
      "[LightGBM] [Info] Start training from score -1.940715\n",
      "[LightGBM] [Info] Start training from score -1.945332\n",
      "[LightGBM] [Info] Start training from score -1.952296\n",
      "[LightGBM] [Info] Start training from score -1.937267\n",
      "              precision    recall  f1-score   support\n",
      "\n",
      "           1       0.82      0.79      0.81       458\n",
      "           2       0.82      0.71      0.76       427\n",
      "           3       0.89      0.88      0.88       425\n",
      "           4       0.95      0.97      0.96       423\n",
      "           5       0.91      0.96      0.94       431\n",
      "           6       0.89      0.92      0.90       443\n",
      "           7       0.91      0.97      0.94       417\n",
      "\n",
      "    accuracy                           0.89      3024\n",
      "   macro avg       0.88      0.89      0.89      3024\n",
      "weighted avg       0.88      0.89      0.88      3024\n",
      "\n"
     ]
    }
   ],
   "source": [
    "from lightgbm import LGBMClassifier\n",
    "\n",
    "y_true, y_pred = classif(clf=LGBMClassifier())\n",
    "print(classification_report(y_true, y_pred))"
   ]
  },
  {
   "cell_type": "code",
   "execution_count": 77,
   "metadata": {},
   "outputs": [],
   "source": [
    "from sklearn.ensemble import StackingClassifier\n",
    "\n",
    "stack = StackingClassifier(estimators=[\n",
    "                        ('rf', RandomForestClassifier(random_state=42, n_estimators=100)),\n",
    "                        ('xtr', ExtraTreesClassifier(random_state=42)),\n",
    "                        ('lgbm', LGBMClassifier(random_state=42)),\n",
    "                        ('KNN5', KNeighborsClassifier(5)), # Essayer 1\n",
    "                    ], \n",
    "                   final_estimator=RandomForestClassifier(random_state=42), \n",
    "                   cv=5,\n",
    "                   n_jobs=-1)\n"
   ]
  },
  {
   "cell_type": "code",
   "execution_count": 78,
   "metadata": {},
   "outputs": [
    {
     "name": "stdout",
     "output_type": "stream",
     "text": [
      "              precision    recall  f1-score   support\n",
      "\n",
      "           1       0.84      0.80      0.82       436\n",
      "           2       0.80      0.80      0.80       418\n",
      "           3       0.86      0.90      0.88       418\n",
      "           4       0.97      0.97      0.97       451\n",
      "           5       0.94      0.94      0.94       436\n",
      "           6       0.89      0.87      0.88       408\n",
      "           7       0.95      0.96      0.96       457\n",
      "\n",
      "    accuracy                           0.89      3024\n",
      "   macro avg       0.89      0.89      0.89      3024\n",
      "weighted avg       0.89      0.89      0.89      3024\n",
      "\n"
     ]
    }
   ],
   "source": [
    "y_true, y_pred = classif(clf=stack)\n",
    "print(classification_report(y_true, y_pred))"
   ]
  },
  {
   "cell_type": "code",
   "execution_count": 79,
   "metadata": {},
   "outputs": [
    {
     "ename": "KeyboardInterrupt",
     "evalue": "",
     "output_type": "error",
     "traceback": [
      "\u001b[1;31m---------------------------------------------------------------------------\u001b[0m",
      "\u001b[1;31mKeyboardInterrupt\u001b[0m                         Traceback (most recent call last)",
      "Cell \u001b[1;32mIn[79], line 1\u001b[0m\n\u001b[1;32m----> 1\u001b[0m IWCV_oversample(predictor\u001b[38;5;241m=\u001b[39mstack)\n",
      "Cell \u001b[1;32mIn[29], line 28\u001b[0m, in \u001b[0;36mIWCV_oversample\u001b[1;34m(df_train, predictor, k_valid, coeffs)\u001b[0m\n\u001b[0;32m     25\u001b[0m X_train_synth, y_train_synth \u001b[38;5;241m=\u001b[39m adasyn\u001b[38;5;241m.\u001b[39mfit_resample(data_train, target_train)\n\u001b[0;32m     26\u001b[0m X_train_synth \u001b[38;5;241m=\u001b[39m pd\u001b[38;5;241m.\u001b[39mDataFrame(X_train_synth, columns\u001b[38;5;241m=\u001b[39mX_train\u001b[38;5;241m.\u001b[39mcolumns)\n\u001b[1;32m---> 28\u001b[0m predictor\u001b[38;5;241m.\u001b[39mfit(X_train_synth, y_train_synth)\n\u001b[0;32m     29\u001b[0m y_pred \u001b[38;5;241m=\u001b[39m predictor\u001b[38;5;241m.\u001b[39mpredict(data_test)\n\u001b[0;32m     31\u001b[0m \u001b[38;5;28;01mfor\u001b[39;00m label \u001b[38;5;129;01min\u001b[39;00m \u001b[38;5;28mrange\u001b[39m(\u001b[38;5;241m1\u001b[39m,\u001b[38;5;241m8\u001b[39m):\n",
      "File \u001b[1;32mc:\\Users\\User\\anaconda3\\Lib\\site-packages\\sklearn\\ensemble\\_stacking.py:663\u001b[0m, in \u001b[0;36mStackingClassifier.fit\u001b[1;34m(self, X, y, sample_weight)\u001b[0m\n\u001b[0;32m    661\u001b[0m     \u001b[38;5;28mself\u001b[39m\u001b[38;5;241m.\u001b[39mclasses_ \u001b[38;5;241m=\u001b[39m \u001b[38;5;28mself\u001b[39m\u001b[38;5;241m.\u001b[39m_label_encoder\u001b[38;5;241m.\u001b[39mclasses_\n\u001b[0;32m    662\u001b[0m     y_encoded \u001b[38;5;241m=\u001b[39m \u001b[38;5;28mself\u001b[39m\u001b[38;5;241m.\u001b[39m_label_encoder\u001b[38;5;241m.\u001b[39mtransform(y)\n\u001b[1;32m--> 663\u001b[0m \u001b[38;5;28;01mreturn\u001b[39;00m \u001b[38;5;28msuper\u001b[39m()\u001b[38;5;241m.\u001b[39mfit(X, y_encoded, sample_weight)\n",
      "File \u001b[1;32mc:\\Users\\User\\anaconda3\\Lib\\site-packages\\sklearn\\base.py:1351\u001b[0m, in \u001b[0;36m_fit_context.<locals>.decorator.<locals>.wrapper\u001b[1;34m(estimator, *args, **kwargs)\u001b[0m\n\u001b[0;32m   1344\u001b[0m     estimator\u001b[38;5;241m.\u001b[39m_validate_params()\n\u001b[0;32m   1346\u001b[0m \u001b[38;5;28;01mwith\u001b[39;00m config_context(\n\u001b[0;32m   1347\u001b[0m     skip_parameter_validation\u001b[38;5;241m=\u001b[39m(\n\u001b[0;32m   1348\u001b[0m         prefer_skip_nested_validation \u001b[38;5;129;01mor\u001b[39;00m global_skip_validation\n\u001b[0;32m   1349\u001b[0m     )\n\u001b[0;32m   1350\u001b[0m ):\n\u001b[1;32m-> 1351\u001b[0m     \u001b[38;5;28;01mreturn\u001b[39;00m fit_method(estimator, \u001b[38;5;241m*\u001b[39margs, \u001b[38;5;241m*\u001b[39m\u001b[38;5;241m*\u001b[39mkwargs)\n",
      "File \u001b[1;32mc:\\Users\\User\\anaconda3\\Lib\\site-packages\\sklearn\\ensemble\\_stacking.py:253\u001b[0m, in \u001b[0;36m_BaseStacking.fit\u001b[1;34m(self, X, y, sample_weight)\u001b[0m\n\u001b[0;32m    248\u001b[0m         cv\u001b[38;5;241m.\u001b[39mrandom_state \u001b[38;5;241m=\u001b[39m np\u001b[38;5;241m.\u001b[39mrandom\u001b[38;5;241m.\u001b[39mRandomState()\n\u001b[0;32m    250\u001b[0m     fit_params \u001b[38;5;241m=\u001b[39m (\n\u001b[0;32m    251\u001b[0m         {\u001b[38;5;124m\"\u001b[39m\u001b[38;5;124msample_weight\u001b[39m\u001b[38;5;124m\"\u001b[39m: sample_weight} \u001b[38;5;28;01mif\u001b[39;00m sample_weight \u001b[38;5;129;01mis\u001b[39;00m \u001b[38;5;129;01mnot\u001b[39;00m \u001b[38;5;28;01mNone\u001b[39;00m \u001b[38;5;28;01melse\u001b[39;00m \u001b[38;5;28;01mNone\u001b[39;00m\n\u001b[0;32m    252\u001b[0m     )\n\u001b[1;32m--> 253\u001b[0m     predictions \u001b[38;5;241m=\u001b[39m Parallel(n_jobs\u001b[38;5;241m=\u001b[39m\u001b[38;5;28mself\u001b[39m\u001b[38;5;241m.\u001b[39mn_jobs)(\n\u001b[0;32m    254\u001b[0m         delayed(cross_val_predict)(\n\u001b[0;32m    255\u001b[0m             clone(est),\n\u001b[0;32m    256\u001b[0m             X,\n\u001b[0;32m    257\u001b[0m             y,\n\u001b[0;32m    258\u001b[0m             cv\u001b[38;5;241m=\u001b[39mdeepcopy(cv),\n\u001b[0;32m    259\u001b[0m             method\u001b[38;5;241m=\u001b[39mmeth,\n\u001b[0;32m    260\u001b[0m             n_jobs\u001b[38;5;241m=\u001b[39m\u001b[38;5;28mself\u001b[39m\u001b[38;5;241m.\u001b[39mn_jobs,\n\u001b[0;32m    261\u001b[0m             params\u001b[38;5;241m=\u001b[39mfit_params,\n\u001b[0;32m    262\u001b[0m             verbose\u001b[38;5;241m=\u001b[39m\u001b[38;5;28mself\u001b[39m\u001b[38;5;241m.\u001b[39mverbose,\n\u001b[0;32m    263\u001b[0m         )\n\u001b[0;32m    264\u001b[0m         \u001b[38;5;28;01mfor\u001b[39;00m est, meth \u001b[38;5;129;01min\u001b[39;00m \u001b[38;5;28mzip\u001b[39m(all_estimators, \u001b[38;5;28mself\u001b[39m\u001b[38;5;241m.\u001b[39mstack_method_)\n\u001b[0;32m    265\u001b[0m         \u001b[38;5;28;01mif\u001b[39;00m est \u001b[38;5;241m!=\u001b[39m \u001b[38;5;124m\"\u001b[39m\u001b[38;5;124mdrop\u001b[39m\u001b[38;5;124m\"\u001b[39m\n\u001b[0;32m    266\u001b[0m     )\n\u001b[0;32m    268\u001b[0m \u001b[38;5;66;03m# Only not None or not 'drop' estimators will be used in transform.\u001b[39;00m\n\u001b[0;32m    269\u001b[0m \u001b[38;5;66;03m# Remove the None from the method as well.\u001b[39;00m\n\u001b[0;32m    270\u001b[0m \u001b[38;5;28mself\u001b[39m\u001b[38;5;241m.\u001b[39mstack_method_ \u001b[38;5;241m=\u001b[39m [\n\u001b[0;32m    271\u001b[0m     meth\n\u001b[0;32m    272\u001b[0m     \u001b[38;5;28;01mfor\u001b[39;00m (meth, est) \u001b[38;5;129;01min\u001b[39;00m \u001b[38;5;28mzip\u001b[39m(\u001b[38;5;28mself\u001b[39m\u001b[38;5;241m.\u001b[39mstack_method_, all_estimators)\n\u001b[0;32m    273\u001b[0m     \u001b[38;5;28;01mif\u001b[39;00m est \u001b[38;5;241m!=\u001b[39m \u001b[38;5;124m\"\u001b[39m\u001b[38;5;124mdrop\u001b[39m\u001b[38;5;124m\"\u001b[39m\n\u001b[0;32m    274\u001b[0m ]\n",
      "File \u001b[1;32mc:\\Users\\User\\anaconda3\\Lib\\site-packages\\sklearn\\utils\\parallel.py:67\u001b[0m, in \u001b[0;36mParallel.__call__\u001b[1;34m(self, iterable)\u001b[0m\n\u001b[0;32m     62\u001b[0m config \u001b[38;5;241m=\u001b[39m get_config()\n\u001b[0;32m     63\u001b[0m iterable_with_config \u001b[38;5;241m=\u001b[39m (\n\u001b[0;32m     64\u001b[0m     (_with_config(delayed_func, config), args, kwargs)\n\u001b[0;32m     65\u001b[0m     \u001b[38;5;28;01mfor\u001b[39;00m delayed_func, args, kwargs \u001b[38;5;129;01min\u001b[39;00m iterable\n\u001b[0;32m     66\u001b[0m )\n\u001b[1;32m---> 67\u001b[0m \u001b[38;5;28;01mreturn\u001b[39;00m \u001b[38;5;28msuper\u001b[39m()\u001b[38;5;241m.\u001b[39m\u001b[38;5;21m__call__\u001b[39m(iterable_with_config)\n",
      "File \u001b[1;32mc:\\Users\\User\\anaconda3\\Lib\\site-packages\\joblib\\parallel.py:1952\u001b[0m, in \u001b[0;36mParallel.__call__\u001b[1;34m(self, iterable)\u001b[0m\n\u001b[0;32m   1946\u001b[0m \u001b[38;5;66;03m# The first item from the output is blank, but it makes the interpreter\u001b[39;00m\n\u001b[0;32m   1947\u001b[0m \u001b[38;5;66;03m# progress until it enters the Try/Except block of the generator and\u001b[39;00m\n\u001b[0;32m   1948\u001b[0m \u001b[38;5;66;03m# reach the first `yield` statement. This starts the aynchronous\u001b[39;00m\n\u001b[0;32m   1949\u001b[0m \u001b[38;5;66;03m# dispatch of the tasks to the workers.\u001b[39;00m\n\u001b[0;32m   1950\u001b[0m \u001b[38;5;28mnext\u001b[39m(output)\n\u001b[1;32m-> 1952\u001b[0m \u001b[38;5;28;01mreturn\u001b[39;00m output \u001b[38;5;28;01mif\u001b[39;00m \u001b[38;5;28mself\u001b[39m\u001b[38;5;241m.\u001b[39mreturn_generator \u001b[38;5;28;01melse\u001b[39;00m \u001b[38;5;28mlist\u001b[39m(output)\n",
      "File \u001b[1;32mc:\\Users\\User\\anaconda3\\Lib\\site-packages\\joblib\\parallel.py:1595\u001b[0m, in \u001b[0;36mParallel._get_outputs\u001b[1;34m(self, iterator, pre_dispatch)\u001b[0m\n\u001b[0;32m   1592\u001b[0m     \u001b[38;5;28;01myield\u001b[39;00m\n\u001b[0;32m   1594\u001b[0m     \u001b[38;5;28;01mwith\u001b[39;00m \u001b[38;5;28mself\u001b[39m\u001b[38;5;241m.\u001b[39m_backend\u001b[38;5;241m.\u001b[39mretrieval_context():\n\u001b[1;32m-> 1595\u001b[0m         \u001b[38;5;28;01myield from\u001b[39;00m \u001b[38;5;28mself\u001b[39m\u001b[38;5;241m.\u001b[39m_retrieve()\n\u001b[0;32m   1597\u001b[0m \u001b[38;5;28;01mexcept\u001b[39;00m \u001b[38;5;167;01mGeneratorExit\u001b[39;00m:\n\u001b[0;32m   1598\u001b[0m     \u001b[38;5;66;03m# The generator has been garbage collected before being fully\u001b[39;00m\n\u001b[0;32m   1599\u001b[0m     \u001b[38;5;66;03m# consumed. This aborts the remaining tasks if possible and warn\u001b[39;00m\n\u001b[0;32m   1600\u001b[0m     \u001b[38;5;66;03m# the user if necessary.\u001b[39;00m\n\u001b[0;32m   1601\u001b[0m     \u001b[38;5;28mself\u001b[39m\u001b[38;5;241m.\u001b[39m_exception \u001b[38;5;241m=\u001b[39m \u001b[38;5;28;01mTrue\u001b[39;00m\n",
      "File \u001b[1;32mc:\\Users\\User\\anaconda3\\Lib\\site-packages\\joblib\\parallel.py:1707\u001b[0m, in \u001b[0;36mParallel._retrieve\u001b[1;34m(self)\u001b[0m\n\u001b[0;32m   1702\u001b[0m \u001b[38;5;66;03m# If the next job is not ready for retrieval yet, we just wait for\u001b[39;00m\n\u001b[0;32m   1703\u001b[0m \u001b[38;5;66;03m# async callbacks to progress.\u001b[39;00m\n\u001b[0;32m   1704\u001b[0m \u001b[38;5;28;01mif\u001b[39;00m ((\u001b[38;5;28mlen\u001b[39m(\u001b[38;5;28mself\u001b[39m\u001b[38;5;241m.\u001b[39m_jobs) \u001b[38;5;241m==\u001b[39m \u001b[38;5;241m0\u001b[39m) \u001b[38;5;129;01mor\u001b[39;00m\n\u001b[0;32m   1705\u001b[0m     (\u001b[38;5;28mself\u001b[39m\u001b[38;5;241m.\u001b[39m_jobs[\u001b[38;5;241m0\u001b[39m]\u001b[38;5;241m.\u001b[39mget_status(\n\u001b[0;32m   1706\u001b[0m         timeout\u001b[38;5;241m=\u001b[39m\u001b[38;5;28mself\u001b[39m\u001b[38;5;241m.\u001b[39mtimeout) \u001b[38;5;241m==\u001b[39m TASK_PENDING)):\n\u001b[1;32m-> 1707\u001b[0m     time\u001b[38;5;241m.\u001b[39msleep(\u001b[38;5;241m0.01\u001b[39m)\n\u001b[0;32m   1708\u001b[0m     \u001b[38;5;28;01mcontinue\u001b[39;00m\n\u001b[0;32m   1710\u001b[0m \u001b[38;5;66;03m# We need to be careful: the job list can be filling up as\u001b[39;00m\n\u001b[0;32m   1711\u001b[0m \u001b[38;5;66;03m# we empty it and Python list are not thread-safe by\u001b[39;00m\n\u001b[0;32m   1712\u001b[0m \u001b[38;5;66;03m# default hence the use of the lock\u001b[39;00m\n",
      "\u001b[1;31mKeyboardInterrupt\u001b[0m: "
     ]
    }
   ],
   "source": [
    "IWCV_oversample(predictor=stack)"
   ]
  },
  {
   "cell_type": "code",
   "execution_count": null,
   "metadata": {},
   "outputs": [],
   "source": [
    "pipe = pipe_setter(n_clusters=7, clf=stack)\n",
    "IWCV_ovs_km(pipe, ovs_strat={ovs_strat={1: 15_000, 2: 15_000}})"
   ]
  }
 ],
 "metadata": {
  "kernelspec": {
   "display_name": "base",
   "language": "python",
   "name": "python3"
  },
  "language_info": {
   "codemirror_mode": {
    "name": "ipython",
    "version": 3
   },
   "file_extension": ".py",
   "mimetype": "text/x-python",
   "name": "python",
   "nbconvert_exporter": "python",
   "pygments_lexer": "ipython3",
   "version": "3.11.4"
  }
 },
 "nbformat": 4,
 "nbformat_minor": 2
}
